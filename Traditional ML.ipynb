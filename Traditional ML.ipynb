{
  "nbformat": 4,
  "nbformat_minor": 0,
  "metadata": {
    "colab": {
      "name": "650ZG.ipynb",
      "provenance": [],
      "collapsed_sections": [
        "RWeQzT5BFA53",
        "T05JAkq5jRjZ",
        "C_afS0wSLkau"
      ],
      "machine_shape": "hm"
    },
    "kernelspec": {
      "name": "python3",
      "display_name": "Python 3"
    },
    "accelerator": "GPU"
  },
  "cells": [
    {
      "cell_type": "code",
      "metadata": {
        "id": "rDvb1-4_BTxZ",
        "colab_type": "code",
        "outputId": "8cbe0d6c-e5d5-4058-84a3-0b4e2c1b0df2",
        "colab": {
          "base_uri": "https://localhost:8080/",
          "height": 121
        }
      },
      "source": [
        "from google.colab import drive\n",
        "drive.mount('/content/drive/')"
      ],
      "execution_count": 0,
      "outputs": [
        {
          "output_type": "stream",
          "text": [
            "Go to this URL in a browser: https://accounts.google.com/o/oauth2/auth?client_id=947318989803-6bn6qk8qdgf4n4g3pfee6491hc0brc4i.apps.googleusercontent.com&redirect_uri=urn%3aietf%3awg%3aoauth%3a2.0%3aoob&response_type=code&scope=email%20https%3a%2f%2fwww.googleapis.com%2fauth%2fdocs.test%20https%3a%2f%2fwww.googleapis.com%2fauth%2fdrive%20https%3a%2f%2fwww.googleapis.com%2fauth%2fdrive.photos.readonly%20https%3a%2f%2fwww.googleapis.com%2fauth%2fpeopleapi.readonly\n",
            "\n",
            "Enter your authorization code:\n",
            "··········\n",
            "Mounted at /content/drive/\n"
          ],
          "name": "stdout"
        }
      ]
    },
    {
      "cell_type": "code",
      "metadata": {
        "id": "Ciomm169Blbd",
        "colab_type": "code",
        "outputId": "3b15ec9c-6528-4f11-bc3b-d9a6f7c3e0f8",
        "colab": {
          "base_uri": "https://localhost:8080/",
          "height": 34
        }
      },
      "source": [
        "cd /content/drive/My\\ Drive/Colab Notebooks/si650/rnn-tutorial-rnnlm-master"
      ],
      "execution_count": 0,
      "outputs": [
        {
          "output_type": "stream",
          "text": [
            "/content/drive/My Drive/Colab Notebooks/si650/rnn-tutorial-rnnlm-master\n"
          ],
          "name": "stdout"
        }
      ]
    },
    {
      "cell_type": "code",
      "metadata": {
        "id": "OxK4ZVHghr1l",
        "colab_type": "code",
        "outputId": "f2c08793-06c6-4ecc-87de-52412e1714fe",
        "colab": {
          "base_uri": "https://localhost:8080/",
          "height": 141
        }
      },
      "source": [
        "!ls"
      ],
      "execution_count": 0,
      "outputs": [
        {
          "output_type": "stream",
          "text": [
            "650ZG.ipynb\t  RNNLM.ipynb\t\t     test_public_expanded.csv\n",
            "data\t\t  rnn_theano.py\t\t     train.csv\n",
            "LICENSE\t\t  sample_submission.csv      train-theano.py\n",
            "LSTM.ipynb\t  small.csv\t\t     utils.py\n",
            "NOTICE\t\t  SVM.sav\t\t     vector_sentence.bin\n",
            "README.md\t  test.csv\t\t     XGBoost_balanced.sav\n",
            "requirements.txt  test_private_expanded.csv  XGBoost_unbalanced.sav\n"
          ],
          "name": "stdout"
        }
      ]
    },
    {
      "cell_type": "code",
      "metadata": {
        "id": "rV-7F_CgACeg",
        "colab_type": "code",
        "outputId": "0e149c1b-da24-4deb-c69c-4582bf4cfca8",
        "colab": {
          "base_uri": "https://localhost:8080/",
          "height": 34
        }
      },
      "source": [
        "!pwd"
      ],
      "execution_count": 0,
      "outputs": [
        {
          "output_type": "stream",
          "text": [
            "/content/drive/My Drive/Colab Notebooks/si650/rnn-tutorial-rnnlm-master\n"
          ],
          "name": "stdout"
        }
      ]
    },
    {
      "cell_type": "code",
      "metadata": {
        "id": "ZwemADolTUXu",
        "colab_type": "code",
        "outputId": "d19b3cd7-8670-451e-b059-9ad0cef0aa3e",
        "colab": {
          "base_uri": "https://localhost:8080/",
          "height": 34
        }
      },
      "source": [
        "y = [0,0,1,1,1,1]\n",
        "classes = [0,1]\n",
        "from sklearn.utils.class_weight import compute_class_weight\n",
        "weights = compute_class_weight('balanced', classes, y)\n",
        "weights"
      ],
      "execution_count": 0,
      "outputs": [
        {
          "output_type": "execute_result",
          "data": {
            "text/plain": [
              "array([1.5 , 0.75])"
            ]
          },
          "metadata": {
            "tags": []
          },
          "execution_count": 3
        }
      ]
    },
    {
      "cell_type": "code",
      "metadata": {
        "id": "KAcVcXDHkRHl",
        "colab_type": "code",
        "outputId": "8268fef8-624d-46bc-f934-cb0a21f278ed",
        "colab": {
          "base_uri": "https://localhost:8080/",
          "height": 130
        }
      },
      "source": [
        "import numpy as np\n",
        "import pandas as pd\n",
        "import itertools\n",
        "from keras.datasets import imdb\n",
        "from keras.models import Sequential\n",
        "from keras.layers import Dense\n",
        "from keras.layers import LSTM\n",
        "from keras.layers.embeddings import Embedding\n",
        "from keras.preprocessing import sequence\n",
        "import nltk\n",
        "import csv\n",
        "import string\n",
        "from sklearn.model_selection import train_test_split\n",
        "# fix random seed for reproducibility\n",
        "np.random.seed(7)\n",
        "nltk.download('punkt')"
      ],
      "execution_count": 0,
      "outputs": [
        {
          "output_type": "stream",
          "text": [
            "Using TensorFlow backend.\n"
          ],
          "name": "stderr"
        },
        {
          "output_type": "display_data",
          "data": {
            "text/html": [
              "<p style=\"color: red;\">\n",
              "The default version of TensorFlow in Colab will soon switch to TensorFlow 2.x.<br>\n",
              "We recommend you <a href=\"https://www.tensorflow.org/guide/migrate\" target=\"_blank\">upgrade</a> now \n",
              "or ensure your notebook will continue to use TensorFlow 1.x via the <code>%tensorflow_version 1.x</code> magic:\n",
              "<a href=\"https://colab.research.google.com/notebooks/tensorflow_version.ipynb\" target=\"_blank\">more info</a>.</p>\n"
            ],
            "text/plain": [
              "<IPython.core.display.HTML object>"
            ]
          },
          "metadata": {
            "tags": []
          }
        },
        {
          "output_type": "stream",
          "text": [
            "[nltk_data] Downloading package punkt to /root/nltk_data...\n",
            "[nltk_data]   Unzipping tokenizers/punkt.zip.\n"
          ],
          "name": "stdout"
        },
        {
          "output_type": "execute_result",
          "data": {
            "text/plain": [
              "True"
            ]
          },
          "metadata": {
            "tags": []
          },
          "execution_count": 3
        }
      ]
    },
    {
      "cell_type": "code",
      "metadata": {
        "id": "dfM8AkbUkRHC",
        "colab_type": "code",
        "colab": {}
      },
      "source": [
        "df = pd.read_csv('train.csv')"
      ],
      "execution_count": 0,
      "outputs": []
    },
    {
      "cell_type": "code",
      "metadata": {
        "id": "x29v7-DNVzZT",
        "colab_type": "code",
        "outputId": "4a6694a3-7a17-4483-a0df-44696f0b707c",
        "colab": {
          "base_uri": "https://localhost:8080/",
          "height": 34
        }
      },
      "source": [
        "df.shape"
      ],
      "execution_count": 0,
      "outputs": [
        {
          "output_type": "execute_result",
          "data": {
            "text/plain": [
              "(1804874, 45)"
            ]
          },
          "metadata": {
            "tags": []
          },
          "execution_count": 6
        }
      ]
    },
    {
      "cell_type": "code",
      "metadata": {
        "id": "BOPRS0a4kRGr",
        "colab_type": "code",
        "outputId": "4ab2a6d9-87a0-40cd-95f7-e770132dd4dc",
        "colab": {
          "base_uri": "https://localhost:8080/",
          "height": 462
        }
      },
      "source": [
        "#Need to take first 10000 positive reviews and first 10000 negative reviews\n",
        "df.head()\n",
        "# df.shape"
      ],
      "execution_count": 0,
      "outputs": [
        {
          "output_type": "execute_result",
          "data": {
            "text/html": [
              "<div>\n",
              "<style scoped>\n",
              "    .dataframe tbody tr th:only-of-type {\n",
              "        vertical-align: middle;\n",
              "    }\n",
              "\n",
              "    .dataframe tbody tr th {\n",
              "        vertical-align: top;\n",
              "    }\n",
              "\n",
              "    .dataframe thead th {\n",
              "        text-align: right;\n",
              "    }\n",
              "</style>\n",
              "<table border=\"1\" class=\"dataframe\">\n",
              "  <thead>\n",
              "    <tr style=\"text-align: right;\">\n",
              "      <th></th>\n",
              "      <th>id</th>\n",
              "      <th>target</th>\n",
              "      <th>comment_text</th>\n",
              "      <th>severe_toxicity</th>\n",
              "      <th>obscene</th>\n",
              "      <th>identity_attack</th>\n",
              "      <th>insult</th>\n",
              "      <th>threat</th>\n",
              "      <th>asian</th>\n",
              "      <th>atheist</th>\n",
              "      <th>bisexual</th>\n",
              "      <th>black</th>\n",
              "      <th>buddhist</th>\n",
              "      <th>christian</th>\n",
              "      <th>female</th>\n",
              "      <th>heterosexual</th>\n",
              "      <th>hindu</th>\n",
              "      <th>homosexual_gay_or_lesbian</th>\n",
              "      <th>intellectual_or_learning_disability</th>\n",
              "      <th>jewish</th>\n",
              "      <th>latino</th>\n",
              "      <th>male</th>\n",
              "      <th>muslim</th>\n",
              "      <th>other_disability</th>\n",
              "      <th>other_gender</th>\n",
              "      <th>other_race_or_ethnicity</th>\n",
              "      <th>other_religion</th>\n",
              "      <th>other_sexual_orientation</th>\n",
              "      <th>physical_disability</th>\n",
              "      <th>psychiatric_or_mental_illness</th>\n",
              "      <th>transgender</th>\n",
              "      <th>white</th>\n",
              "      <th>created_date</th>\n",
              "      <th>publication_id</th>\n",
              "      <th>parent_id</th>\n",
              "      <th>article_id</th>\n",
              "      <th>rating</th>\n",
              "      <th>funny</th>\n",
              "      <th>wow</th>\n",
              "      <th>sad</th>\n",
              "      <th>likes</th>\n",
              "      <th>disagree</th>\n",
              "      <th>sexual_explicit</th>\n",
              "      <th>identity_annotator_count</th>\n",
              "      <th>toxicity_annotator_count</th>\n",
              "    </tr>\n",
              "  </thead>\n",
              "  <tbody>\n",
              "    <tr>\n",
              "      <th>0</th>\n",
              "      <td>59848</td>\n",
              "      <td>0.000000</td>\n",
              "      <td>This is so cool. It's like, 'would you want yo...</td>\n",
              "      <td>0.000000</td>\n",
              "      <td>0.0</td>\n",
              "      <td>0.000000</td>\n",
              "      <td>0.00000</td>\n",
              "      <td>0.0</td>\n",
              "      <td>NaN</td>\n",
              "      <td>NaN</td>\n",
              "      <td>NaN</td>\n",
              "      <td>NaN</td>\n",
              "      <td>NaN</td>\n",
              "      <td>NaN</td>\n",
              "      <td>NaN</td>\n",
              "      <td>NaN</td>\n",
              "      <td>NaN</td>\n",
              "      <td>NaN</td>\n",
              "      <td>NaN</td>\n",
              "      <td>NaN</td>\n",
              "      <td>NaN</td>\n",
              "      <td>NaN</td>\n",
              "      <td>NaN</td>\n",
              "      <td>NaN</td>\n",
              "      <td>NaN</td>\n",
              "      <td>NaN</td>\n",
              "      <td>NaN</td>\n",
              "      <td>NaN</td>\n",
              "      <td>NaN</td>\n",
              "      <td>NaN</td>\n",
              "      <td>NaN</td>\n",
              "      <td>NaN</td>\n",
              "      <td>2015-09-29 10:50:41.987077+00</td>\n",
              "      <td>2</td>\n",
              "      <td>NaN</td>\n",
              "      <td>2006</td>\n",
              "      <td>rejected</td>\n",
              "      <td>0</td>\n",
              "      <td>0</td>\n",
              "      <td>0</td>\n",
              "      <td>0</td>\n",
              "      <td>0</td>\n",
              "      <td>0.0</td>\n",
              "      <td>0</td>\n",
              "      <td>4</td>\n",
              "    </tr>\n",
              "    <tr>\n",
              "      <th>1</th>\n",
              "      <td>59849</td>\n",
              "      <td>0.000000</td>\n",
              "      <td>Thank you!! This would make my life a lot less...</td>\n",
              "      <td>0.000000</td>\n",
              "      <td>0.0</td>\n",
              "      <td>0.000000</td>\n",
              "      <td>0.00000</td>\n",
              "      <td>0.0</td>\n",
              "      <td>NaN</td>\n",
              "      <td>NaN</td>\n",
              "      <td>NaN</td>\n",
              "      <td>NaN</td>\n",
              "      <td>NaN</td>\n",
              "      <td>NaN</td>\n",
              "      <td>NaN</td>\n",
              "      <td>NaN</td>\n",
              "      <td>NaN</td>\n",
              "      <td>NaN</td>\n",
              "      <td>NaN</td>\n",
              "      <td>NaN</td>\n",
              "      <td>NaN</td>\n",
              "      <td>NaN</td>\n",
              "      <td>NaN</td>\n",
              "      <td>NaN</td>\n",
              "      <td>NaN</td>\n",
              "      <td>NaN</td>\n",
              "      <td>NaN</td>\n",
              "      <td>NaN</td>\n",
              "      <td>NaN</td>\n",
              "      <td>NaN</td>\n",
              "      <td>NaN</td>\n",
              "      <td>NaN</td>\n",
              "      <td>2015-09-29 10:50:42.870083+00</td>\n",
              "      <td>2</td>\n",
              "      <td>NaN</td>\n",
              "      <td>2006</td>\n",
              "      <td>rejected</td>\n",
              "      <td>0</td>\n",
              "      <td>0</td>\n",
              "      <td>0</td>\n",
              "      <td>0</td>\n",
              "      <td>0</td>\n",
              "      <td>0.0</td>\n",
              "      <td>0</td>\n",
              "      <td>4</td>\n",
              "    </tr>\n",
              "    <tr>\n",
              "      <th>2</th>\n",
              "      <td>59852</td>\n",
              "      <td>0.000000</td>\n",
              "      <td>This is such an urgent design problem; kudos t...</td>\n",
              "      <td>0.000000</td>\n",
              "      <td>0.0</td>\n",
              "      <td>0.000000</td>\n",
              "      <td>0.00000</td>\n",
              "      <td>0.0</td>\n",
              "      <td>NaN</td>\n",
              "      <td>NaN</td>\n",
              "      <td>NaN</td>\n",
              "      <td>NaN</td>\n",
              "      <td>NaN</td>\n",
              "      <td>NaN</td>\n",
              "      <td>NaN</td>\n",
              "      <td>NaN</td>\n",
              "      <td>NaN</td>\n",
              "      <td>NaN</td>\n",
              "      <td>NaN</td>\n",
              "      <td>NaN</td>\n",
              "      <td>NaN</td>\n",
              "      <td>NaN</td>\n",
              "      <td>NaN</td>\n",
              "      <td>NaN</td>\n",
              "      <td>NaN</td>\n",
              "      <td>NaN</td>\n",
              "      <td>NaN</td>\n",
              "      <td>NaN</td>\n",
              "      <td>NaN</td>\n",
              "      <td>NaN</td>\n",
              "      <td>NaN</td>\n",
              "      <td>NaN</td>\n",
              "      <td>2015-09-29 10:50:45.222647+00</td>\n",
              "      <td>2</td>\n",
              "      <td>NaN</td>\n",
              "      <td>2006</td>\n",
              "      <td>rejected</td>\n",
              "      <td>0</td>\n",
              "      <td>0</td>\n",
              "      <td>0</td>\n",
              "      <td>0</td>\n",
              "      <td>0</td>\n",
              "      <td>0.0</td>\n",
              "      <td>0</td>\n",
              "      <td>4</td>\n",
              "    </tr>\n",
              "    <tr>\n",
              "      <th>3</th>\n",
              "      <td>59855</td>\n",
              "      <td>0.000000</td>\n",
              "      <td>Is this something I'll be able to install on m...</td>\n",
              "      <td>0.000000</td>\n",
              "      <td>0.0</td>\n",
              "      <td>0.000000</td>\n",
              "      <td>0.00000</td>\n",
              "      <td>0.0</td>\n",
              "      <td>NaN</td>\n",
              "      <td>NaN</td>\n",
              "      <td>NaN</td>\n",
              "      <td>NaN</td>\n",
              "      <td>NaN</td>\n",
              "      <td>NaN</td>\n",
              "      <td>NaN</td>\n",
              "      <td>NaN</td>\n",
              "      <td>NaN</td>\n",
              "      <td>NaN</td>\n",
              "      <td>NaN</td>\n",
              "      <td>NaN</td>\n",
              "      <td>NaN</td>\n",
              "      <td>NaN</td>\n",
              "      <td>NaN</td>\n",
              "      <td>NaN</td>\n",
              "      <td>NaN</td>\n",
              "      <td>NaN</td>\n",
              "      <td>NaN</td>\n",
              "      <td>NaN</td>\n",
              "      <td>NaN</td>\n",
              "      <td>NaN</td>\n",
              "      <td>NaN</td>\n",
              "      <td>NaN</td>\n",
              "      <td>2015-09-29 10:50:47.601894+00</td>\n",
              "      <td>2</td>\n",
              "      <td>NaN</td>\n",
              "      <td>2006</td>\n",
              "      <td>rejected</td>\n",
              "      <td>0</td>\n",
              "      <td>0</td>\n",
              "      <td>0</td>\n",
              "      <td>0</td>\n",
              "      <td>0</td>\n",
              "      <td>0.0</td>\n",
              "      <td>0</td>\n",
              "      <td>4</td>\n",
              "    </tr>\n",
              "    <tr>\n",
              "      <th>4</th>\n",
              "      <td>59856</td>\n",
              "      <td>0.893617</td>\n",
              "      <td>haha you guys are a bunch of losers.</td>\n",
              "      <td>0.021277</td>\n",
              "      <td>0.0</td>\n",
              "      <td>0.021277</td>\n",
              "      <td>0.87234</td>\n",
              "      <td>0.0</td>\n",
              "      <td>0.0</td>\n",
              "      <td>0.0</td>\n",
              "      <td>0.0</td>\n",
              "      <td>0.0</td>\n",
              "      <td>0.0</td>\n",
              "      <td>0.0</td>\n",
              "      <td>0.0</td>\n",
              "      <td>0.0</td>\n",
              "      <td>0.0</td>\n",
              "      <td>0.0</td>\n",
              "      <td>0.25</td>\n",
              "      <td>0.0</td>\n",
              "      <td>0.0</td>\n",
              "      <td>0.0</td>\n",
              "      <td>0.0</td>\n",
              "      <td>0.0</td>\n",
              "      <td>0.0</td>\n",
              "      <td>0.0</td>\n",
              "      <td>0.0</td>\n",
              "      <td>0.0</td>\n",
              "      <td>0.0</td>\n",
              "      <td>0.0</td>\n",
              "      <td>0.0</td>\n",
              "      <td>0.0</td>\n",
              "      <td>2015-09-29 10:50:48.488476+00</td>\n",
              "      <td>2</td>\n",
              "      <td>NaN</td>\n",
              "      <td>2006</td>\n",
              "      <td>rejected</td>\n",
              "      <td>0</td>\n",
              "      <td>0</td>\n",
              "      <td>0</td>\n",
              "      <td>1</td>\n",
              "      <td>0</td>\n",
              "      <td>0.0</td>\n",
              "      <td>4</td>\n",
              "      <td>47</td>\n",
              "    </tr>\n",
              "  </tbody>\n",
              "</table>\n",
              "</div>"
            ],
            "text/plain": [
              "      id    target  ... identity_annotator_count  toxicity_annotator_count\n",
              "0  59848  0.000000  ...                        0                         4\n",
              "1  59849  0.000000  ...                        0                         4\n",
              "2  59852  0.000000  ...                        0                         4\n",
              "3  59855  0.000000  ...                        0                         4\n",
              "4  59856  0.893617  ...                        4                        47\n",
              "\n",
              "[5 rows x 45 columns]"
            ]
          },
          "metadata": {
            "tags": []
          },
          "execution_count": 7
        }
      ]
    },
    {
      "cell_type": "markdown",
      "metadata": {
        "id": "RWeQzT5BFA53",
        "colab_type": "text"
      },
      "source": [
        "##Data Pre-processing"
      ]
    },
    {
      "cell_type": "code",
      "metadata": {
        "id": "W1OLW5pjkRGA",
        "colab_type": "code",
        "colab": {}
      },
      "source": [
        "def save2csv_pos_neg(df):\n",
        "  #For now, we only use the comment.\n",
        "  with open(\"./small.csv\",\"w\",newline=\"\") as csvfile: \n",
        "    fieldnames = ['comment_text','target']\n",
        "    writer = csv.DictWriter(csvfile, fieldnames=fieldnames)\n",
        "    pos_i = 0\n",
        "    neg_i = 0\n",
        "    for index, row in df.iterrows():\n",
        "      if row['target'] >= 0.5 and neg_i <= 10000:\n",
        "        neg_i += 1\n",
        "        writer.writerow({'comment_text':row['comment_text'],'target': row['target']})\n",
        "      elif row['target'] < 0.5 and pos_i <= 10000:\n",
        "        pos_i += 1\n",
        "        writer.writerow({'comment_text':row['comment_text'],'target': row['target']})\n",
        "      if(pos_i > 10000 and neg_i > 10000):\n",
        "        break"
      ],
      "execution_count": 0,
      "outputs": []
    },
    {
      "cell_type": "code",
      "metadata": {
        "id": "tWdEtZFoYRZW",
        "colab_type": "code",
        "colab": {}
      },
      "source": [
        "save2csv_pos_neg(df)"
      ],
      "execution_count": 0,
      "outputs": []
    },
    {
      "cell_type": "code",
      "metadata": {
        "id": "ynA6ccNJYGds",
        "colab_type": "code",
        "colab": {}
      },
      "source": [
        "df1 = pd.read_csv('small.csv')"
      ],
      "execution_count": 0,
      "outputs": []
    },
    {
      "cell_type": "code",
      "metadata": {
        "id": "fhmZd3GeYkdD",
        "colab_type": "code",
        "colab": {}
      },
      "source": [
        "# df1 = df1.rename(columns={0:'comment_text',1:'target'})"
      ],
      "execution_count": 0,
      "outputs": []
    },
    {
      "cell_type": "code",
      "metadata": {
        "id": "CMYP-G8YdN4I",
        "colab_type": "code",
        "colab": {}
      },
      "source": [
        "# df1['target'] = df1['target'].apply(lambda x: 1 if x >=0.5 else 0)"
      ],
      "execution_count": 0,
      "outputs": []
    },
    {
      "cell_type": "code",
      "metadata": {
        "id": "H-QGqo8sdc9g",
        "colab_type": "code",
        "outputId": "1a61776f-f695-4785-e736-48a8ea0774be",
        "colab": {
          "base_uri": "https://localhost:8080/",
          "height": 204
        }
      },
      "source": [
        "df1.head()"
      ],
      "execution_count": 0,
      "outputs": [
        {
          "output_type": "execute_result",
          "data": {
            "text/html": [
              "<div>\n",
              "<style scoped>\n",
              "    .dataframe tbody tr th:only-of-type {\n",
              "        vertical-align: middle;\n",
              "    }\n",
              "\n",
              "    .dataframe tbody tr th {\n",
              "        vertical-align: top;\n",
              "    }\n",
              "\n",
              "    .dataframe thead th {\n",
              "        text-align: right;\n",
              "    }\n",
              "</style>\n",
              "<table border=\"1\" class=\"dataframe\">\n",
              "  <thead>\n",
              "    <tr style=\"text-align: right;\">\n",
              "      <th></th>\n",
              "      <th>comment_text</th>\n",
              "      <th>target</th>\n",
              "    </tr>\n",
              "  </thead>\n",
              "  <tbody>\n",
              "    <tr>\n",
              "      <th>0</th>\n",
              "      <td>This is so cool. It's like, 'would you want yo...</td>\n",
              "      <td>0</td>\n",
              "    </tr>\n",
              "    <tr>\n",
              "      <th>1</th>\n",
              "      <td>Thank you!! This would make my life a lot less...</td>\n",
              "      <td>0</td>\n",
              "    </tr>\n",
              "    <tr>\n",
              "      <th>2</th>\n",
              "      <td>This is such an urgent design problem; kudos t...</td>\n",
              "      <td>0</td>\n",
              "    </tr>\n",
              "    <tr>\n",
              "      <th>3</th>\n",
              "      <td>Is this something I'll be able to install on m...</td>\n",
              "      <td>0</td>\n",
              "    </tr>\n",
              "    <tr>\n",
              "      <th>4</th>\n",
              "      <td>haha you guys are a bunch of losers.</td>\n",
              "      <td>1</td>\n",
              "    </tr>\n",
              "  </tbody>\n",
              "</table>\n",
              "</div>"
            ],
            "text/plain": [
              "                                        comment_text  target\n",
              "0  This is so cool. It's like, 'would you want yo...       0\n",
              "1  Thank you!! This would make my life a lot less...       0\n",
              "2  This is such an urgent design problem; kudos t...       0\n",
              "3  Is this something I'll be able to install on m...       0\n",
              "4               haha you guys are a bunch of losers.       1"
            ]
          },
          "metadata": {
            "tags": []
          },
          "execution_count": 9
        }
      ]
    },
    {
      "cell_type": "code",
      "metadata": {
        "id": "b0EIQ7c4iWh2",
        "colab_type": "code",
        "colab": {}
      },
      "source": [
        "# df1.to_csv('small.csv',index =False)"
      ],
      "execution_count": 0,
      "outputs": []
    },
    {
      "cell_type": "markdown",
      "metadata": {
        "id": "T05JAkq5jRjZ",
        "colab_type": "text"
      },
      "source": [
        "## LSTM\n"
      ]
    },
    {
      "cell_type": "code",
      "metadata": {
        "id": "Iw0e4rEBjg0W",
        "colab_type": "code",
        "colab": {}
      },
      "source": [
        "vocabulary_size = 8000\n",
        "unknown_token = \"UNKNOWN_TOKEN\""
      ],
      "execution_count": 0,
      "outputs": []
    },
    {
      "cell_type": "code",
      "metadata": {
        "id": "eCP_wo9zkRB6",
        "colab_type": "code",
        "colab": {}
      },
      "source": [
        "with open(\"small.csv\", \"r\") as f:\n",
        "  reader = csv.reader(f)\n",
        "  next(reader)\n",
        "  sentences = itertools.chain(*[nltk.word_tokenize(x[0].lower()) for x in reader])\n",
        "  # sentences = [\"%s %s %s\" % (sentence_start_token, x, sentence_end_token) for x in sentences]\n",
        "  sentences = list(sentences)\n",
        "  # print (\"Parsed %d sentences.\" % (len(sentences)))"
      ],
      "execution_count": 0,
      "outputs": []
    },
    {
      "cell_type": "code",
      "metadata": {
        "id": "09CU4NGuiqGg",
        "colab_type": "code",
        "outputId": "9d484c3e-f3b3-4c59-8b9d-da85f2f4e45b",
        "colab": {
          "base_uri": "https://localhost:8080/",
          "height": 34
        }
      },
      "source": [
        "# max(df1['comment_text'].apply(lambda x:len(x)))"
      ],
      "execution_count": 0,
      "outputs": [
        {
          "output_type": "execute_result",
          "data": {
            "text/plain": [
              "1906"
            ]
          },
          "metadata": {
            "tags": []
          },
          "execution_count": 12
        }
      ]
    },
    {
      "cell_type": "code",
      "metadata": {
        "id": "-CwHakX6kRBa",
        "colab_type": "code",
        "colab": {}
      },
      "source": [
        "tokenized_sentences = [nltk.word_tokenize(sent) for sent in sentences]"
      ],
      "execution_count": 0,
      "outputs": []
    },
    {
      "cell_type": "code",
      "metadata": {
        "id": "ALRF1ayakRA0",
        "colab_type": "code",
        "colab": {}
      },
      "source": [
        "word_freq = nltk.FreqDist(itertools.chain(*tokenized_sentences))"
      ],
      "execution_count": 0,
      "outputs": []
    },
    {
      "cell_type": "code",
      "metadata": {
        "id": "vOgTHlYgjuRe",
        "colab_type": "code",
        "colab": {}
      },
      "source": [
        "vocab = word_freq.most_common(vocabulary_size)\n",
        "index_to_word = [x[0] for x in vocab]\n",
        "index_to_word.append(unknown_token)\n",
        "word_to_index = dict([(w,i) for i,w in enumerate(index_to_word)])"
      ],
      "execution_count": 0,
      "outputs": []
    },
    {
      "cell_type": "code",
      "metadata": {
        "id": "KcgarXSDjuxl",
        "colab_type": "code",
        "colab": {}
      },
      "source": [
        "X = []\n",
        "for row in df1['comment_text']:\n",
        "  row = row.translate(str.maketrans('','',string.punctuation))\n",
        "  row = row.lower()\n",
        "  token = nltk.word_tokenize(row)\n",
        "  token = [w if w in word_to_index else unknown_token for w in token]\n",
        "  # print(token)\n",
        "  X.append([word_to_index[w] for w in token])\n",
        "X = np.array(X)\n",
        "y = np.array(df1['target'])"
      ],
      "execution_count": 0,
      "outputs": []
    },
    {
      "cell_type": "code",
      "metadata": {
        "id": "nF5fZKJGnEPF",
        "colab_type": "code",
        "colab": {}
      },
      "source": [
        "X_train, X_test, y_train, y_test = train_test_split(X, y, test_size=0.3, random_state=7)"
      ],
      "execution_count": 0,
      "outputs": []
    },
    {
      "cell_type": "code",
      "metadata": {
        "id": "P_8G4dEMkRC8",
        "colab_type": "code",
        "outputId": "048af96a-8bbb-4bc3-e7cf-26a98e7fce1d",
        "colab": {
          "base_uri": "https://localhost:8080/",
          "height": 969
        }
      },
      "source": [
        "top_words = 5000\n",
        "# truncate and pad input sequences\n",
        "max_review_length = 500\n",
        "X_train = sequence.pad_sequences(X_train, maxlen=max_review_length)\n",
        "X_test = sequence.pad_sequences(X_test, maxlen=max_review_length)\n",
        "# create the model\n",
        "embedding_vecor_length = 32\n",
        "model = Sequential()\n",
        "model.add(Embedding(top_words, embedding_vecor_length, input_length=max_review_length))\n",
        "model.add(LSTM(100, dropout=0.2, recurrent_dropout=0.2))\n",
        "model.add(Dense(1, activation='sigmoid'))\n",
        "model.compile(loss='binary_crossentropy', optimizer='adam', metrics=['accuracy'])\n",
        "print(model.summary())\n",
        "model.fit(X_train, y_train, epochs=3, batch_size=64)\n",
        "# Final evaluation of the model\n",
        "scores = model.evaluate(X_test, y_test, verbose=0)\n",
        "print(\"Accuracy: %.2f%%\" % (scores[1]*100))"
      ],
      "execution_count": 0,
      "outputs": [
        {
          "output_type": "stream",
          "text": [
            "WARNING:tensorflow:From /usr/local/lib/python3.6/dist-packages/keras/backend/tensorflow_backend.py:66: The name tf.get_default_graph is deprecated. Please use tf.compat.v1.get_default_graph instead.\n",
            "\n",
            "WARNING:tensorflow:From /usr/local/lib/python3.6/dist-packages/keras/backend/tensorflow_backend.py:541: The name tf.placeholder is deprecated. Please use tf.compat.v1.placeholder instead.\n",
            "\n",
            "WARNING:tensorflow:From /usr/local/lib/python3.6/dist-packages/keras/backend/tensorflow_backend.py:4432: The name tf.random_uniform is deprecated. Please use tf.random.uniform instead.\n",
            "\n",
            "WARNING:tensorflow:From /usr/local/lib/python3.6/dist-packages/keras/backend/tensorflow_backend.py:148: The name tf.placeholder_with_default is deprecated. Please use tf.compat.v1.placeholder_with_default instead.\n",
            "\n",
            "WARNING:tensorflow:From /usr/local/lib/python3.6/dist-packages/keras/backend/tensorflow_backend.py:3733: calling dropout (from tensorflow.python.ops.nn_ops) with keep_prob is deprecated and will be removed in a future version.\n",
            "Instructions for updating:\n",
            "Please use `rate` instead of `keep_prob`. Rate should be set to `rate = 1 - keep_prob`.\n",
            "WARNING:tensorflow:From /usr/local/lib/python3.6/dist-packages/keras/optimizers.py:793: The name tf.train.Optimizer is deprecated. Please use tf.compat.v1.train.Optimizer instead.\n",
            "\n",
            "WARNING:tensorflow:From /usr/local/lib/python3.6/dist-packages/keras/backend/tensorflow_backend.py:3657: The name tf.log is deprecated. Please use tf.math.log instead.\n",
            "\n",
            "WARNING:tensorflow:From /usr/local/lib/python3.6/dist-packages/tensorflow_core/python/ops/nn_impl.py:183: where (from tensorflow.python.ops.array_ops) is deprecated and will be removed in a future version.\n",
            "Instructions for updating:\n",
            "Use tf.where in 2.0, which has the same broadcast rule as np.where\n",
            "Model: \"sequential_1\"\n",
            "_________________________________________________________________\n",
            "Layer (type)                 Output Shape              Param #   \n",
            "=================================================================\n",
            "embedding_1 (Embedding)      (None, 500, 32)           160000    \n",
            "_________________________________________________________________\n",
            "lstm_1 (LSTM)                (None, 100)               53200     \n",
            "_________________________________________________________________\n",
            "dense_1 (Dense)              (None, 1)                 101       \n",
            "=================================================================\n",
            "Total params: 213,301\n",
            "Trainable params: 213,301\n",
            "Non-trainable params: 0\n",
            "_________________________________________________________________\n",
            "None\n",
            "WARNING:tensorflow:From /usr/local/lib/python3.6/dist-packages/keras/backend/tensorflow_backend.py:1033: The name tf.assign_add is deprecated. Please use tf.compat.v1.assign_add instead.\n",
            "\n",
            "WARNING:tensorflow:From /usr/local/lib/python3.6/dist-packages/keras/backend/tensorflow_backend.py:1020: The name tf.assign is deprecated. Please use tf.compat.v1.assign instead.\n",
            "\n",
            "WARNING:tensorflow:From /usr/local/lib/python3.6/dist-packages/keras/backend/tensorflow_backend.py:3005: The name tf.Session is deprecated. Please use tf.compat.v1.Session instead.\n",
            "\n",
            "Epoch 1/3\n",
            "WARNING:tensorflow:From /usr/local/lib/python3.6/dist-packages/keras/backend/tensorflow_backend.py:190: The name tf.get_default_session is deprecated. Please use tf.compat.v1.get_default_session instead.\n",
            "\n",
            "WARNING:tensorflow:From /usr/local/lib/python3.6/dist-packages/keras/backend/tensorflow_backend.py:197: The name tf.ConfigProto is deprecated. Please use tf.compat.v1.ConfigProto instead.\n",
            "\n",
            "WARNING:tensorflow:From /usr/local/lib/python3.6/dist-packages/keras/backend/tensorflow_backend.py:207: The name tf.global_variables is deprecated. Please use tf.compat.v1.global_variables instead.\n",
            "\n",
            "WARNING:tensorflow:From /usr/local/lib/python3.6/dist-packages/keras/backend/tensorflow_backend.py:216: The name tf.is_variable_initialized is deprecated. Please use tf.compat.v1.is_variable_initialized instead.\n",
            "\n",
            "WARNING:tensorflow:From /usr/local/lib/python3.6/dist-packages/keras/backend/tensorflow_backend.py:223: The name tf.variables_initializer is deprecated. Please use tf.compat.v1.variables_initializer instead.\n",
            "\n",
            "14001/14001 [==============================] - 296s 21ms/step - loss: 0.5839 - acc: 0.6772\n",
            "Epoch 2/3\n",
            "14001/14001 [==============================] - 290s 21ms/step - loss: 0.3614 - acc: 0.8492\n",
            "Epoch 3/3\n",
            "14001/14001 [==============================] - 283s 20ms/step - loss: 0.2844 - acc: 0.8880\n",
            "Accuracy: 83.57%\n"
          ],
          "name": "stdout"
        }
      ]
    },
    {
      "cell_type": "markdown",
      "metadata": {
        "id": "C_afS0wSLkau",
        "colab_type": "text"
      },
      "source": [
        "## Try LSTM\n",
        "\n",
        "---\n",
        "\n"
      ]
    },
    {
      "cell_type": "code",
      "metadata": {
        "id": "NN-gPc7rLjAm",
        "colab_type": "code",
        "colab": {}
      },
      "source": [
        "import numpy as np\n",
        "import pandas as pd\n",
        "from keras.models import Model\n",
        "from keras.layers import Input, Dense, Embedding, SpatialDropout1D, add, concatenate\n",
        "from keras.layers import CuDNNLSTM, Bidirectional, GlobalMaxPooling1D, GlobalAveragePooling1D\n",
        "from keras.preprocessing import text, sequence\n",
        "from gensim.models import KeyedVectors"
      ],
      "execution_count": 0,
      "outputs": []
    },
    {
      "cell_type": "code",
      "metadata": {
        "id": "U_FIAMXPLjWU",
        "colab_type": "code",
        "colab": {}
      },
      "source": [
        "EMBEDDING_FILES = [\n",
        "    '../input/gensim-embeddings-dataset/crawl-300d-2M.gensim',\n",
        "    '../input/gensim-embeddings-dataset/glove.840B.300d.gensim'\n",
        "]\n",
        "NUM_MODELS = 2\n",
        "BATCH_SIZE = 512\n",
        "LSTM_UNITS = 128\n",
        "DENSE_HIDDEN_UNITS = 4 * LSTM_UNITS\n",
        "EPOCHS = 4\n",
        "MAX_LEN = 220\n",
        "IDENTITY_COLUMNS = [\n",
        "    'male', 'female', 'homosexual_gay_or_lesbian', 'christian', 'jewish',\n",
        "    'muslim', 'black', 'white', 'psychiatric_or_mental_illness'\n",
        "]\n",
        "AUX_COLUMNS = ['target', 'severe_toxicity', 'obscene', 'identity_attack', 'insult', 'threat']\n",
        "TEXT_COLUMN = 'comment_text'\n",
        "TARGET_COLUMN = 'target'\n",
        "CHARS_TO_REMOVE = '!\"#$%&()*+,-./:;<=>?@[\\\\]^_`{|}~\\t\\n“”’\\'∞θ÷α•à−β∅³π‘₹´°£€\\×™√²—'"
      ],
      "execution_count": 0,
      "outputs": []
    },
    {
      "cell_type": "code",
      "metadata": {
        "id": "QDpoYnunLjY9",
        "colab_type": "code",
        "colab": {}
      },
      "source": [
        "def build_matrix(word_index, path):\n",
        "    embedding_index = KeyedVectors.load(path, mmap='r')\n",
        "    embedding_matrix = np.zeros((len(word_index) + 1, 300))\n",
        "    for word, i in word_index.items():\n",
        "        for candidate in [word, word.lower()]:\n",
        "            if candidate in embedding_index:\n",
        "                embedding_matrix[i] = embedding_index[candidate]\n",
        "                break\n",
        "    return embedding_matrix"
      ],
      "execution_count": 0,
      "outputs": []
    },
    {
      "cell_type": "code",
      "metadata": {
        "id": "2urR7gJTLjbA",
        "colab_type": "code",
        "colab": {}
      },
      "source": [
        "def build_model(embedding_matrix, num_aux_targets):\n",
        "    words = Input(shape=(None,))\n",
        "    x = Embedding(*embedding_matrix.shape, weights=[embedding_matrix], trainable=False)(words)\n",
        "    x = SpatialDropout1D(0.2)(x)\n",
        "    x = Bidirectional(CuDNNLSTM(LSTM_UNITS, return_sequences=True))(x)\n",
        "    x = Bidirectional(CuDNNLSTM(LSTM_UNITS, return_sequences=True))(x)\n",
        "\n",
        "    hidden = concatenate([\n",
        "        GlobalMaxPooling1D()(x),\n",
        "        GlobalAveragePooling1D()(x),\n",
        "    ])\n",
        "    hidden = add([hidden, Dense(DENSE_HIDDEN_UNITS, activation='relu')(hidden)])\n",
        "    hidden = add([hidden, Dense(DENSE_HIDDEN_UNITS, activation='relu')(hidden)])\n",
        "    result = Dense(1, activation='sigmoid')(hidden)\n",
        "    aux_result = Dense(num_aux_targets, activation='sigmoid')(hidden)\n",
        "    \n",
        "    model = Model(inputs=words, outputs=[result, aux_result])\n",
        "    model.compile(loss='binary_crossentropy', optimizer='adam')\n",
        "\n",
        "    return model"
      ],
      "execution_count": 0,
      "outputs": []
    },
    {
      "cell_type": "code",
      "metadata": {
        "id": "czvikEJbLjc8",
        "colab_type": "code",
        "colab": {}
      },
      "source": [
        "train_df = pd.read_csv('train.csv')\n",
        "test_df = pd.read_csv('test.csv')"
      ],
      "execution_count": 0,
      "outputs": []
    },
    {
      "cell_type": "code",
      "metadata": {
        "id": "m_PfPhnzLjes",
        "colab_type": "code",
        "colab": {}
      },
      "source": [
        "x_train = train_df[TEXT_COLUMN].astype(str)\n",
        "y_train = train_df[TARGET_COLUMN].values\n",
        "y_aux_train = train_df[AUX_COLUMNS].values\n",
        "x_test = test_df[TEXT_COLUMN].astype(str)"
      ],
      "execution_count": 0,
      "outputs": []
    },
    {
      "cell_type": "code",
      "metadata": {
        "id": "pGk1aKU2MTVG",
        "colab_type": "code",
        "outputId": "55ddb099-8aab-41e8-8994-c25fb05d8447",
        "colab": {
          "base_uri": "https://localhost:8080/",
          "height": 50
        }
      },
      "source": [
        "print(train_df.shape)\n",
        "print(test_df.shape)"
      ],
      "execution_count": 0,
      "outputs": [
        {
          "output_type": "stream",
          "text": [
            "(1804874, 45)\n",
            "(97320, 2)\n"
          ],
          "name": "stdout"
        }
      ]
    },
    {
      "cell_type": "code",
      "metadata": {
        "id": "aYQO_dPtMgLl",
        "colab_type": "code",
        "colab": {}
      },
      "source": [
        "#This will convert the indentity columns and \n",
        "for column in IDENTITY_COLUMNS + [TARGET_COLUMN]:\n",
        "    train_df[column] = np.where(train_df[column] >= 0.5, True, False)"
      ],
      "execution_count": 0,
      "outputs": []
    },
    {
      "cell_type": "code",
      "metadata": {
        "id": "o3nmLBUpMgOI",
        "colab_type": "code",
        "colab": {}
      },
      "source": [
        "tokenizer = text.Tokenizer(filters=CHARS_TO_REMOVE, lower=False)\n",
        "tokenizer.fit_on_texts(list(x_train) + list(x_test))"
      ],
      "execution_count": 0,
      "outputs": []
    },
    {
      "cell_type": "code",
      "metadata": {
        "id": "ea_QMk9KMgQG",
        "colab_type": "code",
        "colab": {}
      },
      "source": [
        "x_train = tokenizer.texts_to_sequences(x_train)\n",
        "x_test = tokenizer.texts_to_sequences(x_test)\n",
        "x_train = sequence.pad_sequences(x_train, maxlen=MAX_LEN)\n",
        "x_test = sequence.pad_sequences(x_test, maxlen=MAX_LEN)"
      ],
      "execution_count": 0,
      "outputs": []
    },
    {
      "cell_type": "code",
      "metadata": {
        "id": "Lojc-a3eMgSE",
        "colab_type": "code",
        "colab": {}
      },
      "source": [
        "sample_weights = np.ones(len(x_train), dtype=np.float32)\n",
        "sample_weights += train_df[IDENTITY_COLUMNS].sum(axis=1)\n",
        "sample_weights += train_df[TARGET_COLUMN] * (~train_df[IDENTITY_COLUMNS]).sum(axis=1)#for every entry, if it is False, the ~ will make it true.\n",
        "sample_weights += (~train_df[TARGET_COLUMN]) * train_df[IDENTITY_COLUMNS].sum(axis=1) * 5\n",
        "sample_weights /= sample_weights.mean()"
      ],
      "execution_count": 0,
      "outputs": []
    },
    {
      "cell_type": "code",
      "metadata": {
        "id": "mDbCHOjGMgUX",
        "colab_type": "code",
        "outputId": "0152ed7e-7376-4efc-c44c-0f80b6d1aea5",
        "colab": {
          "base_uri": "https://localhost:8080/",
          "height": 218
        }
      },
      "source": [
        "(~train_df[TARGET_COLUMN])"
      ],
      "execution_count": 0,
      "outputs": [
        {
          "output_type": "execute_result",
          "data": {
            "text/plain": [
              "0           True\n",
              "1           True\n",
              "2           True\n",
              "3           True\n",
              "4          False\n",
              "           ...  \n",
              "1804869     True\n",
              "1804870     True\n",
              "1804871     True\n",
              "1804872    False\n",
              "1804873     True\n",
              "Name: target, Length: 1804874, dtype: bool"
            ]
          },
          "metadata": {
            "tags": []
          },
          "execution_count": 53
        }
      ]
    },
    {
      "cell_type": "code",
      "metadata": {
        "id": "mMJneVH_MgV8",
        "colab_type": "code",
        "outputId": "5c0f1ced-eb00-4434-981b-61131ae10976",
        "colab": {
          "base_uri": "https://localhost:8080/",
          "height": 218
        }
      },
      "source": [
        "(train_df[IDENTITY_COLUMNS]).sum(axis=1)"
      ],
      "execution_count": 0,
      "outputs": [
        {
          "output_type": "execute_result",
          "data": {
            "text/plain": [
              "0          0\n",
              "1          0\n",
              "2          0\n",
              "3          0\n",
              "4          0\n",
              "          ..\n",
              "1804869    0\n",
              "1804870    0\n",
              "1804871    0\n",
              "1804872    0\n",
              "1804873    0\n",
              "Length: 1804874, dtype: int64"
            ]
          },
          "metadata": {
            "tags": []
          },
          "execution_count": 41
        }
      ]
    },
    {
      "cell_type": "code",
      "metadata": {
        "id": "QrhCTH3EMgXq",
        "colab_type": "code",
        "outputId": "9971f098-e795-468a-a2ba-a038d6ee8376",
        "colab": {
          "base_uri": "https://localhost:8080/",
          "height": 136
        }
      },
      "source": [
        "train_df.loc[0:2,IDENTITY_COLUMNS]"
      ],
      "execution_count": 0,
      "outputs": [
        {
          "output_type": "execute_result",
          "data": {
            "text/html": [
              "<div>\n",
              "<style scoped>\n",
              "    .dataframe tbody tr th:only-of-type {\n",
              "        vertical-align: middle;\n",
              "    }\n",
              "\n",
              "    .dataframe tbody tr th {\n",
              "        vertical-align: top;\n",
              "    }\n",
              "\n",
              "    .dataframe thead th {\n",
              "        text-align: right;\n",
              "    }\n",
              "</style>\n",
              "<table border=\"1\" class=\"dataframe\">\n",
              "  <thead>\n",
              "    <tr style=\"text-align: right;\">\n",
              "      <th></th>\n",
              "      <th>male</th>\n",
              "      <th>female</th>\n",
              "      <th>homosexual_gay_or_lesbian</th>\n",
              "      <th>christian</th>\n",
              "      <th>jewish</th>\n",
              "      <th>muslim</th>\n",
              "      <th>black</th>\n",
              "      <th>white</th>\n",
              "      <th>psychiatric_or_mental_illness</th>\n",
              "    </tr>\n",
              "  </thead>\n",
              "  <tbody>\n",
              "    <tr>\n",
              "      <th>0</th>\n",
              "      <td>False</td>\n",
              "      <td>False</td>\n",
              "      <td>False</td>\n",
              "      <td>False</td>\n",
              "      <td>False</td>\n",
              "      <td>False</td>\n",
              "      <td>False</td>\n",
              "      <td>False</td>\n",
              "      <td>False</td>\n",
              "    </tr>\n",
              "    <tr>\n",
              "      <th>1</th>\n",
              "      <td>False</td>\n",
              "      <td>False</td>\n",
              "      <td>False</td>\n",
              "      <td>False</td>\n",
              "      <td>False</td>\n",
              "      <td>False</td>\n",
              "      <td>False</td>\n",
              "      <td>False</td>\n",
              "      <td>False</td>\n",
              "    </tr>\n",
              "    <tr>\n",
              "      <th>2</th>\n",
              "      <td>False</td>\n",
              "      <td>False</td>\n",
              "      <td>False</td>\n",
              "      <td>False</td>\n",
              "      <td>False</td>\n",
              "      <td>False</td>\n",
              "      <td>False</td>\n",
              "      <td>False</td>\n",
              "      <td>False</td>\n",
              "    </tr>\n",
              "  </tbody>\n",
              "</table>\n",
              "</div>"
            ],
            "text/plain": [
              "    male  female  ...  white  psychiatric_or_mental_illness\n",
              "0  False   False  ...  False                          False\n",
              "1  False   False  ...  False                          False\n",
              "2  False   False  ...  False                          False\n",
              "\n",
              "[3 rows x 9 columns]"
            ]
          },
          "metadata": {
            "tags": []
          },
          "execution_count": 48
        }
      ]
    },
    {
      "cell_type": "code",
      "metadata": {
        "id": "OqMiu24NMgZy",
        "colab_type": "code",
        "outputId": "1ff38e47-6bc8-423f-cb42-060d73404133",
        "colab": {
          "base_uri": "https://localhost:8080/",
          "height": 34
        }
      },
      "source": [
        ""
      ],
      "execution_count": 0,
      "outputs": [
        {
          "output_type": "execute_result",
          "data": {
            "text/plain": [
              "(1804874, 9)"
            ]
          },
          "metadata": {
            "tags": []
          },
          "execution_count": 44
        }
      ]
    },
    {
      "cell_type": "code",
      "metadata": {
        "id": "hou_swPUMgba",
        "colab_type": "code",
        "colab": {}
      },
      "source": [
        ""
      ],
      "execution_count": 0,
      "outputs": []
    },
    {
      "cell_type": "code",
      "metadata": {
        "id": "K6m44F1kMgdK",
        "colab_type": "code",
        "colab": {}
      },
      "source": [
        ""
      ],
      "execution_count": 0,
      "outputs": []
    },
    {
      "cell_type": "code",
      "metadata": {
        "id": "O8foeUF3LjgQ",
        "colab_type": "code",
        "colab": {}
      },
      "source": [
        ""
      ],
      "execution_count": 0,
      "outputs": []
    },
    {
      "cell_type": "code",
      "metadata": {
        "id": "qfXEPhRoMOh2",
        "colab_type": "code",
        "colab": {}
      },
      "source": [
        ""
      ],
      "execution_count": 0,
      "outputs": []
    },
    {
      "cell_type": "code",
      "metadata": {
        "id": "cahR-74kMOqM",
        "colab_type": "code",
        "colab": {}
      },
      "source": [
        ""
      ],
      "execution_count": 0,
      "outputs": []
    },
    {
      "cell_type": "code",
      "metadata": {
        "id": "R4NZyhh0MOsw",
        "colab_type": "code",
        "colab": {}
      },
      "source": [
        ""
      ],
      "execution_count": 0,
      "outputs": []
    },
    {
      "cell_type": "code",
      "metadata": {
        "id": "0WdaZrafMOw4",
        "colab_type": "code",
        "colab": {}
      },
      "source": [
        ""
      ],
      "execution_count": 0,
      "outputs": []
    },
    {
      "cell_type": "code",
      "metadata": {
        "id": "w1OROapLMOz-",
        "colab_type": "code",
        "colab": {}
      },
      "source": [
        ""
      ],
      "execution_count": 0,
      "outputs": []
    },
    {
      "cell_type": "code",
      "metadata": {
        "id": "YfRYtIHfMO7r",
        "colab_type": "code",
        "colab": {}
      },
      "source": [
        ""
      ],
      "execution_count": 0,
      "outputs": []
    },
    {
      "cell_type": "code",
      "metadata": {
        "id": "WRAbCrPJMO9_",
        "colab_type": "code",
        "colab": {}
      },
      "source": [
        ""
      ],
      "execution_count": 0,
      "outputs": []
    },
    {
      "cell_type": "code",
      "metadata": {
        "id": "FaJfDHwfMPAY",
        "colab_type": "code",
        "colab": {}
      },
      "source": [
        ""
      ],
      "execution_count": 0,
      "outputs": []
    },
    {
      "cell_type": "code",
      "metadata": {
        "id": "zvxFcGfaMPCX",
        "colab_type": "code",
        "colab": {}
      },
      "source": [
        ""
      ],
      "execution_count": 0,
      "outputs": []
    },
    {
      "cell_type": "code",
      "metadata": {
        "id": "ms1M_yn_MPEd",
        "colab_type": "code",
        "colab": {}
      },
      "source": [
        ""
      ],
      "execution_count": 0,
      "outputs": []
    },
    {
      "cell_type": "code",
      "metadata": {
        "id": "zvwK6NEeMPGW",
        "colab_type": "code",
        "colab": {}
      },
      "source": [
        ""
      ],
      "execution_count": 0,
      "outputs": []
    },
    {
      "cell_type": "code",
      "metadata": {
        "id": "Jv-tWgfuMPIU",
        "colab_type": "code",
        "colab": {}
      },
      "source": [
        ""
      ],
      "execution_count": 0,
      "outputs": []
    },
    {
      "cell_type": "markdown",
      "metadata": {
        "id": "MQD3h3YKW41O",
        "colab_type": "text"
      },
      "source": [
        "## Sentence Vetorize"
      ]
    },
    {
      "cell_type": "code",
      "metadata": {
        "id": "9VTA5my4jLiy",
        "colab_type": "code",
        "outputId": "1e7c91b3-b3ab-44db-d7fd-584f3bb573b7",
        "colab": {
          "base_uri": "https://localhost:8080/",
          "height": 50
        }
      },
      "source": [
        "cd /content/drive/My\\ Drive/Colab Notebooks/si650/rnn-tutorial-rnnlm-master"
      ],
      "execution_count": 0,
      "outputs": [
        {
          "output_type": "stream",
          "text": [
            "[Errno 2] No such file or directory: '/content/drive/My Drive/Colab Notebooks/si650/rnn-tutorial-rnnlm-master'\n",
            "/content\n"
          ],
          "name": "stdout"
        }
      ]
    },
    {
      "cell_type": "code",
      "metadata": {
        "id": "y9bfAth6glAy",
        "colab_type": "code",
        "colab": {}
      },
      "source": [
        "from sklearn.model_selection import train_test_split\n",
        "import time\n",
        "import pandas as pd\n",
        "import numpy as np\n",
        "import scipy\n",
        "import nltk\n",
        "from nltk.tokenize import word_tokenize\n",
        "from nltk import pos_tag\n",
        "from nltk.corpus import stopwords\n",
        "from nltk.stem.porter import PorterStemmer\n",
        "from nltk.stem import WordNetLemmatizer\n",
        "from sklearn.preprocessing import LabelEncoder\n",
        "from collections import defaultdict\n",
        "from nltk.corpus import wordnet as wn\n",
        "from sklearn.feature_extraction.text import TfidfVectorizer\n",
        "from sklearn import model_selection, naive_bayes, svm\n",
        "from sklearn.metrics import accuracy_score\n",
        "from sklearn.model_selection import GridSearchCV\n",
        "#from autocorrect import Speller\n",
        "from sklearn.feature_extraction.text import CountVectorizer\n",
        "from sklearn.ensemble import GradientBoostingClassifier\n",
        "from xgboost import XGBClassifier\n",
        "from sklearn.linear_model import LogisticRegression\n",
        "from sklearn.feature_extraction.text import TfidfVectorizer\n",
        "import re"
      ],
      "execution_count": 0,
      "outputs": []
    },
    {
      "cell_type": "code",
      "metadata": {
        "id": "fZ7Z6mDzfl76",
        "colab_type": "code",
        "colab": {}
      },
      "source": [
        "df = pd.read_csv('train.csv')\n",
        "#df = df.dropna(axis = 0)\n",
        "#test_df = pd.read_csv('test.csv')\n",
        "train = df.drop('target',axis=1)\n",
        "test = df['target']\n",
        "test = np.where(test >= 0.5, 1, 0)"
      ],
      "execution_count": 0,
      "outputs": []
    },
    {
      "cell_type": "code",
      "metadata": {
        "id": "RoVrd-EsQAA-",
        "colab_type": "code",
        "colab": {}
      },
      "source": [
        "#read in LSTM submission\n",
        "lstm_pred = pd.read_csv(\"submission.csv\")"
      ],
      "execution_count": 0,
      "outputs": []
    },
    {
      "cell_type": "code",
      "metadata": {
        "id": "eFzzQvPnQNgd",
        "colab_type": "code",
        "outputId": "4f05b785-0fd0-469e-c533-9c5debc6ae29",
        "colab": {
          "base_uri": "https://localhost:8080/",
          "height": 34
        }
      },
      "source": [
        "lstm_pred.shape"
      ],
      "execution_count": 0,
      "outputs": [
        {
          "output_type": "execute_result",
          "data": {
            "text/plain": [
              "(97320, 2)"
            ]
          },
          "metadata": {
            "tags": []
          },
          "execution_count": 14
        }
      ]
    },
    {
      "cell_type": "code",
      "metadata": {
        "id": "zJZ9qO8eR1Xt",
        "colab_type": "code",
        "outputId": "d7dcb882-3fef-4d5a-d0e4-f3d7d60e036d",
        "colab": {
          "base_uri": "https://localhost:8080/",
          "height": 34
        }
      },
      "source": [
        ""
      ],
      "execution_count": 0,
      "outputs": [
        {
          "output_type": "execute_result",
          "data": {
            "text/plain": [
              "(97320, 44)"
            ]
          },
          "metadata": {
            "tags": []
          },
          "execution_count": 26
        }
      ]
    },
    {
      "cell_type": "code",
      "metadata": {
        "id": "V-Cy0LQPR9ZM",
        "colab_type": "code",
        "colab": {}
      },
      "source": [
        ""
      ],
      "execution_count": 0,
      "outputs": []
    },
    {
      "cell_type": "code",
      "metadata": {
        "id": "kyyau_fHDRfj",
        "colab_type": "code",
        "outputId": "cd875995-0a0c-4378-d157-18d66f144c21",
        "colab": {
          "base_uri": "https://localhost:8080/",
          "height": 34
        }
      },
      "source": [
        "df.shape"
      ],
      "execution_count": 0,
      "outputs": [
        {
          "output_type": "execute_result",
          "data": {
            "text/plain": [
              "(235087, 45)"
            ]
          },
          "metadata": {
            "tags": []
          },
          "execution_count": 9
        }
      ]
    },
    {
      "cell_type": "code",
      "metadata": {
        "id": "macJ6QcfXOyI",
        "colab_type": "code",
        "outputId": "24564f43-addc-4a1c-aed9-82c58bd8e446",
        "colab": {
          "base_uri": "https://localhost:8080/",
          "height": 101
        }
      },
      "source": [
        "!ls"
      ],
      "execution_count": 0,
      "outputs": [
        {
          "output_type": "stream",
          "text": [
            "data\t      README.md\t\t     small.csv\t\t\ttrain-theano.py\n",
            "Kaggle.ipynb  requirements.txt\t     test.csv\t\t\tutils.py\n",
            "LICENSE       RNNLM.ipynb\t     test_private_expanded.csv\n",
            "LSTM.ipynb    rnn_theano.py\t     test_public_expanded.csv\n",
            "NOTICE\t      sample_submission.csv  train.csv\n"
          ],
          "name": "stdout"
        }
      ]
    },
    {
      "cell_type": "code",
      "metadata": {
        "id": "43msGPAbUrpl",
        "colab_type": "code",
        "colab": {}
      },
      "source": [
        "test_df = pd.read_csv('test_public_expanded.csv')\n",
        "#test_df = test_df.dropna(axis = 0)"
      ],
      "execution_count": 0,
      "outputs": []
    },
    {
      "cell_type": "code",
      "metadata": {
        "id": "rX82ILguXR7a",
        "colab_type": "code",
        "colab": {}
      },
      "source": [
        "train_pri = test_df.drop(\"toxicity\",axis = 1)\n",
        "test_pri = test_df['toxicity']\n",
        "test_pri = np.where(test_pri >= 0.5,1,0)"
      ],
      "execution_count": 0,
      "outputs": []
    },
    {
      "cell_type": "code",
      "metadata": {
        "id": "vYgGeZJ0MPKG",
        "colab_type": "code",
        "colab": {}
      },
      "source": [
        "vectorizer = TfidfVectorizer(ngram_range=(1,3),lowercase=False,use_idf = False,max_features=8000)#tri-grams with tf-idf as value+\n",
        "vectorizer.fit(train['comment_text'],test_df['comment_text'])\n",
        "X = vectorizer.transform(train['comment_text'])\n",
        "X_pri = vectorizer.transform(train_pri['comment_text'])"
      ],
      "execution_count": 0,
      "outputs": []
    },
    {
      "cell_type": "code",
      "metadata": {
        "id": "AITkC_xndIaU",
        "colab_type": "code",
        "colab": {}
      },
      "source": [
        "# vectorizer = TfidfVectorizer(ngram_range=(1,3),lowercase=False,use_idf = False,max_features=8000)#tri-grams with tf-idf as value+\n",
        "# res = vectorizer.fit(train['comment_text'],test_df['comment_text'])"
      ],
      "execution_count": 0,
      "outputs": []
    },
    {
      "cell_type": "code",
      "metadata": {
        "id": "80Wc2T4WjKZ5",
        "colab_type": "code",
        "outputId": "74255aba-800f-4582-a840-db44ccbc0f64",
        "colab": {
          "base_uri": "https://localhost:8080/",
          "height": 134
        }
      },
      "source": [
        "vectorizer"
      ],
      "execution_count": 0,
      "outputs": [
        {
          "output_type": "execute_result",
          "data": {
            "text/plain": [
              "TfidfVectorizer(analyzer='word', binary=False, decode_error='strict',\n",
              "                dtype=<class 'numpy.float64'>, encoding='utf-8',\n",
              "                input='content', lowercase=False, max_df=1.0, max_features=8000,\n",
              "                min_df=1, ngram_range=(1, 3), norm='l2', preprocessor=None,\n",
              "                smooth_idf=True, stop_words=None, strip_accents=None,\n",
              "                sublinear_tf=False, token_pattern='(?u)\\\\b\\\\w\\\\w+\\\\b',\n",
              "                tokenizer=None, use_idf=False, vocabulary=None)"
            ]
          },
          "metadata": {
            "tags": []
          },
          "execution_count": 28
        }
      ]
    },
    {
      "cell_type": "code",
      "metadata": {
        "id": "It85IpCWsU2a",
        "colab_type": "code",
        "colab": {}
      },
      "source": [
        "import pickle\n",
        "filename = 'vector_sentence.bin'\n",
        "pickle.dump(vectorizer, open(filename, 'wb'))"
      ],
      "execution_count": 0,
      "outputs": []
    },
    {
      "cell_type": "code",
      "metadata": {
        "id": "PJQWvpjhfsRK",
        "colab_type": "code",
        "colab": {}
      },
      "source": [
        "# X_train,X_test,y_train,y_test = train_test_split(X,test,test_size = 0.2)"
      ],
      "execution_count": 0,
      "outputs": []
    },
    {
      "cell_type": "code",
      "metadata": {
        "id": "Qfi_Q2nrqYxZ",
        "colab_type": "code",
        "outputId": "28241399-c73b-41e2-9389-cdff1a8b6ade",
        "colab": {
          "base_uri": "https://localhost:8080/",
          "height": 50
        }
      },
      "source": [
        "print(sum(df['target']>0.5))\n",
        "print(sum(df['target'] < 0.5))\n",
        "#False is 10 times than True\n",
        "#17406:1, 209945: 0"
      ],
      "execution_count": 0,
      "outputs": [
        {
          "output_type": "stream",
          "text": [
            "106438\n",
            "1660540\n"
          ],
          "name": "stdout"
        }
      ]
    },
    {
      "cell_type": "code",
      "metadata": {
        "id": "WMXFhkiZYZ3b",
        "colab_type": "code",
        "outputId": "22ed587b-f87f-4288-d929-dbcd2e9aa57e",
        "colab": {
          "base_uri": "https://localhost:8080/",
          "height": 50
        }
      },
      "source": [
        "print(sum(test_df['toxicity']>0.5))\n",
        "print(sum(test_df['toxicity'] < 0.5))\n",
        "#False is 10 times than True\n",
        "#905:1, 11024:0"
      ],
      "execution_count": 0,
      "outputs": [
        {
          "output_type": "stream",
          "text": [
            "5649\n",
            "89649\n"
          ],
          "name": "stdout"
        }
      ]
    },
    {
      "cell_type": "markdown",
      "metadata": {
        "id": "uo0mbUuJiaia",
        "colab_type": "text"
      },
      "source": [
        "The X_train and X_test will be the embedding of the comments. Right now we are only working on the text"
      ]
    },
    {
      "cell_type": "code",
      "metadata": {
        "id": "-XqQIXgvMO50",
        "colab_type": "code",
        "colab": {}
      },
      "source": [
        "import pandas as pd\n",
        "import numpy as np\n",
        "import matplotlib.pyplot as plt\n",
        "from sklearn.ensemble import GradientBoostingClassifier\n",
        "from sklearn.preprocessing import OneHotEncoder\n",
        "from sklearn.preprocessing import LabelEncoder\n",
        "from sklearn.linear_model import LinearRegression\n",
        "from sklearn.model_selection import cross_val_score\n",
        "from xgboost import XGBClassifier\n",
        "import scipy\n",
        "import csv\n",
        "import time\n",
        "import sys\n",
        "from collections import Counter \n",
        "from sklearn.metrics import precision_recall_curve\n",
        "from sklearn.metrics import roc_curve\n",
        "from sklearn.metrics import roc_auc_score\n",
        "from sklearn.metrics import f1_score\n",
        "from sklearn.metrics import auc"
      ],
      "execution_count": 0,
      "outputs": []
    },
    {
      "cell_type": "code",
      "metadata": {
        "id": "3LAoqHJZWPYu",
        "colab_type": "code",
        "colab": {}
      },
      "source": [
        "# df = pd.read_csv('train.csv')\n",
        "# df = df.dropna(axis = 0)\n",
        "# #test_df = pd.read_csv('test.csv')\n",
        "# train = df\n",
        "# # train = df.drop('target',axis=1)\n",
        "# # test = df['target']\n",
        "# # test = np.where(test >= 0.5, 1, 0)"
      ],
      "execution_count": 0,
      "outputs": []
    },
    {
      "cell_type": "code",
      "metadata": {
        "id": "vHqLSR87ZEEJ",
        "colab_type": "code",
        "colab": {}
      },
      "source": [
        "# test = df['target']\n",
        "# test = np.where(test >= 0.5, 1, 0)"
      ],
      "execution_count": 0,
      "outputs": []
    },
    {
      "cell_type": "code",
      "metadata": {
        "colab_type": "code",
        "id": "ghZS0vwFaEeh",
        "colab": {}
      },
      "source": [
        "# test_df = pd.read_csv('test_public_expanded.csv')\n",
        "# test_df = test_df.dropna(axis = 0)"
      ],
      "execution_count": 0,
      "outputs": []
    },
    {
      "cell_type": "code",
      "metadata": {
        "colab_type": "code",
        "id": "sOM_a81-aEen",
        "colab": {}
      },
      "source": [
        "# train_pri = test_df.drop(\"toxicity\",axis = 1)\n",
        "# test_pri = test_df['toxicity']\n",
        "# test_pri = np.where(test_pri >= 0.5,1,0)"
      ],
      "execution_count": 0,
      "outputs": []
    },
    {
      "cell_type": "code",
      "metadata": {
        "id": "jqJZSTSoP3LC",
        "colab_type": "code",
        "colab": {}
      },
      "source": [
        "# IDENTITY_COLUMNS = [\n",
        "#     'male', 'female', 'homosexual_gay_or_lesbian', 'christian', 'jewish',\n",
        "#     'muslim', 'black', 'white', 'psychiatric_or_mental_illness'\n",
        "# ]\n",
        "# AUX_COLUMNS = ['target', 'severe_toxicity', 'obscene', 'identity_attack', 'insult', 'threat']\n",
        "# TEXT_COLUMN = 'comment_text'\n",
        "# TARGET_COLUMN = 'target'"
      ],
      "execution_count": 0,
      "outputs": []
    },
    {
      "cell_type": "code",
      "metadata": {
        "id": "LxjuMJsuWioz",
        "colab_type": "code",
        "colab": {}
      },
      "source": [
        "# for column in IDENTITY_COLUMNS + [TARGET_COLUMN]:\n",
        "#     train[column] = np.where(train[column] >= 0.5, True, False)"
      ],
      "execution_count": 0,
      "outputs": []
    },
    {
      "cell_type": "code",
      "metadata": {
        "id": "gUipmSFUUZuo",
        "colab_type": "code",
        "colab": {}
      },
      "source": [
        "# #Try text text.Tokenizer\n",
        "# from keras.preprocessing import text, sequence\n",
        "# tokenizer = text.Tokenizer(lower=False)\n",
        "# tokenizer.fit_on_texts(list(train['comment_text']) + list(train_pri['comment_text']))\n",
        "\n",
        "# x_train = tokenizer.texts_to_sequences(train['comment_text'])\n",
        "# x_test = tokenizer.texts_to_sequences(train_pri['comment_text'])\n",
        "# x_train = sequence.pad_sequences(x_train, maxlen=8000)\n",
        "# x_test = sequence.pad_sequences(x_test, maxlen=8000)"
      ],
      "execution_count": 0,
      "outputs": []
    },
    {
      "cell_type": "code",
      "metadata": {
        "id": "Rn48UcywbBP_",
        "colab_type": "code",
        "colab": {}
      },
      "source": [
        "# vectorizer = TfidfVectorizer(ngram_range=(1,3),lowercase=False,use_idf = False,max_features=8000)#tri-grams with tf-idf as value+\n",
        "# vectorizer.fit(train['comment_text'],test_df['comment_text'])\n",
        "# X = vectorizer.transform(train['comment_text'])\n",
        "# X_test = vectorizer.transform(train_pri['comment_text'])"
      ],
      "execution_count": 0,
      "outputs": []
    },
    {
      "cell_type": "code",
      "metadata": {
        "id": "epoTBBmSwc3x",
        "colab_type": "code",
        "colab": {}
      },
      "source": [
        "# sample_weights = np.ones(X.shape[0], dtype=np.float32)\n",
        "# sample_weights += train[IDENTITY_COLUMNS].sum(axis=1)\n",
        "# sample_weights += train[TARGET_COLUMN] * (~train[IDENTITY_COLUMNS]).sum(axis=1)\n",
        "# sample_weights += (~train[TARGET_COLUMN]) * train[IDENTITY_COLUMNS].sum(axis=1) * 5\n",
        "# sample_weights /= sample_weights.mean()\n"
      ],
      "execution_count": 0,
      "outputs": []
    },
    {
      "cell_type": "markdown",
      "metadata": {
        "id": "puyt6yRNM0mf",
        "colab_type": "text"
      },
      "source": [
        "## Linear SVM (Baseline)"
      ]
    },
    {
      "cell_type": "code",
      "metadata": {
        "id": "6HM-lB2XM98M",
        "colab_type": "code",
        "outputId": "9834b823-9036-4a4e-fff9-17ce80594bbf",
        "colab": {
          "base_uri": "https://localhost:8080/",
          "height": 67
        }
      },
      "source": [
        "SVM = svm.LinearSVC(C = 5)\n",
        "SVM.fit(X,test)\n",
        "# predict the labels on validation dataset\n",
        "predictions_SVM = SVM.predict(X_pri)\n",
        "# Use accuracy_score function to get the accuracy\n",
        "print(\"SVM Accuracy Score -> \",accuracy_score(predictions_SVM, test_pri)*100)\n",
        "#predictions_SVM = SVM.predict(X_test)\n",
        "#print(len(predictions_SVM))\n",
        "print(sum(predictions_SVM == 1))\n",
        "print(sum(predictions_SVM == 0))"
      ],
      "execution_count": 0,
      "outputs": [
        {
          "output_type": "stream",
          "text": [
            "SVM Accuracy Score ->  93.87073571722154\n",
            "2830\n",
            "94490\n"
          ],
          "name": "stdout"
        }
      ]
    },
    {
      "cell_type": "code",
      "metadata": {
        "id": "bCQy9cJmiqso",
        "colab_type": "code",
        "colab": {}
      },
      "source": [
        "import pickle\n",
        "filename = 'SVM.sav'\n",
        "pickle.dump(SVM, open(filename, 'wb'))"
      ],
      "execution_count": 0,
      "outputs": []
    },
    {
      "cell_type": "code",
      "metadata": {
        "id": "JrincYJ6QbWo",
        "colab_type": "code",
        "outputId": "f151c190-6cd9-450e-93f1-ad358b3a01cb",
        "colab": {
          "base_uri": "https://localhost:8080/",
          "height": 170
        }
      },
      "source": [
        "from sklearn.metrics import classification_report\n",
        "print(classification_report(test_pri, predictions_SVM,labels=[0,1]))"
      ],
      "execution_count": 0,
      "outputs": [
        {
          "output_type": "stream",
          "text": [
            "              precision    recall  f1-score   support\n",
            "\n",
            "           0       0.92      0.99      0.95     11024\n",
            "           1       0.72      0.29      0.42      1296\n",
            "\n",
            "    accuracy                           0.91     12320\n",
            "   macro avg       0.82      0.64      0.69     12320\n",
            "weighted avg       0.90      0.91      0.90     12320\n",
            "\n"
          ],
          "name": "stdout"
        }
      ]
    },
    {
      "cell_type": "code",
      "metadata": {
        "id": "2Q9jgj04Ur3L",
        "colab_type": "code",
        "colab": {}
      },
      "source": [
        "from sklearn.metrics import precision_recall_fscore_support\n",
        "pre_rec_arr = precision_recall_fscore_support(test_pri,predictions_SVM,labels = [0,1])"
      ],
      "execution_count": 0,
      "outputs": []
    },
    {
      "cell_type": "code",
      "metadata": {
        "id": "qrqyixS8YGOC",
        "colab_type": "code",
        "outputId": "d5f77d93-a830-42e5-e34a-18662705b352",
        "colab": {
          "base_uri": "https://localhost:8080/",
          "height": 301
        }
      },
      "source": [
        "zero_info = [x[0] for x in pre_rec_arr][:-1]\n",
        "one_info = [x[1] for x in pre_rec_arr][:-1]\n",
        "import seaborn as sns; sns.set()\n",
        "arr = np.array([zero_info,one_info])\n",
        "#arr\n",
        "ax = sns.heatmap(arr,annot=True,xticklabels=[\"precision\",\"recall\",\"f1\"],cmap=\"Blues\")\n",
        "ax.set_title(\"SVM Precisoin Recall F1-score\")"
      ],
      "execution_count": 0,
      "outputs": [
        {
          "output_type": "execute_result",
          "data": {
            "text/plain": [
              "Text(0.5, 1, 'SVM Precisoin Recall F1-score')"
            ]
          },
          "metadata": {
            "tags": []
          },
          "execution_count": 33
        },
        {
          "output_type": "display_data",
          "data": {
            "image/png": "[encoded data removed]",
            "text/plain": [
              "<Figure size 432x288 with 2 Axes>"
            ]
          },
          "metadata": {
            "tags": []
          }
        }
      ]
    },
    {
      "cell_type": "markdown",
      "metadata": {
        "id": "duasV1OJM-33",
        "colab_type": "text"
      },
      "source": [
        "## XGboost"
      ]
    },
    {
      "cell_type": "code",
      "metadata": {
        "id": "zemypZUxIiYq",
        "colab_type": "code",
        "outputId": "c39a3ef7-30c0-4d2e-a23f-79e4cf80d547",
        "colab": {
          "base_uri": "https://localhost:8080/",
          "height": 34
        }
      },
      "source": [
        "num_pos = (test==1).sum()\n",
        "num_neg = (test==0).sum()\n",
        "#gb = XGBClassifier(scale_pos_weight=num_neg/num_pos)#GradientBoostingClassifier(n_estimators=700, max_depth=5)\n",
        "gb = XGBClassifier(n_estimators = 500, scale_pos_weight = num_neg/num_pos, max_depth = 5,eval_metric = ['auc'])\n",
        "#gb = XGBClassifier()\n",
        "gb.fit(X, test)\n",
        "y_pred = gb.predict(X_pri)\n",
        "predictions = [round(value) for value in y_pred]\n",
        "accuracy = accuracy_score(test_pri, predictions)\n",
        "print(\"Accuracy: %.2f%%\" % (accuracy * 100.0))\n",
        "#2hours to run"
      ],
      "execution_count": 0,
      "outputs": [
        {
          "output_type": "stream",
          "text": [
            "Accuracy: 88.62%\n"
          ],
          "name": "stdout"
        }
      ]
    },
    {
      "cell_type": "markdown",
      "metadata": {
        "id": "PjRP46oRe1Eq",
        "colab_type": "text"
      },
      "source": [
        "Add feature weights<br>\n",
        "0.18675346035543405 avg_precision_recall\n",
        "0.18646408839779008 f1_scaore\n",
        "0.10416666666666667 recall\n",
        "0.8881578947368421 precision<br>\n",
        "Train and test on the private data.<br>\n",
        "Before balance,\n",
        "<br>Acc: 90.44%<br>\n",
        "True:152<br>\n",
        "False:12168<br>\n",
        "Precision: <br>\n",
        "Recall: <br>\n",
        "F1-score: <br>\n",
        "Avg Precision Recall:<br>\n",
        "Very low performance. Even though it has high accuracy\n",
        "After balance,<br>\n",
        "0.2603518763758695 avg_precision_recall\n",
        "0.45418080839247144 f1_scaore\n",
        "0.5679012345679012 recall\n",
        "0.37840616966580976 precision\n",
        "<br>Acc: 85.64%<br>\n",
        "True:3265<br>\n",
        "False:9055<br>\n",
        "Precision: <br>\n",
        "Recall: <br>\n",
        "F1-score: <br>\n",
        "Avg Precision Recall: <br>\n",
        "Precision is very low, so a lot of true label are actually false! Very high false positive rate."
      ]
    },
    {
      "cell_type": "code",
      "metadata": {
        "id": "mxbwVVa2l0Xw",
        "colab_type": "code",
        "colab": {}
      },
      "source": [
        "#Save the model\n",
        "import pickle\n",
        "filename = 'XGBoost_balanced.sav'\n",
        "pickle.dump(gb, open(filename, 'wb'))"
      ],
      "execution_count": 0,
      "outputs": []
    },
    {
      "cell_type": "code",
      "metadata": {
        "id": "Hoxj1Kp9pCbl",
        "colab_type": "code",
        "outputId": "ab8ec6ee-43fd-4b5c-c487-44cc3ec7c372",
        "colab": {
          "base_uri": "https://localhost:8080/",
          "height": 1000
        }
      },
      "source": [
        "from yellowbrick.classifier import ClassBalance, ROCAUC, ClassificationReport, ClassPredictionError\n",
        "rocauc = ROCAUC(gb, classes=[0,1])\n",
        "\n",
        "rocauc.score(X_pri, test_pri)  \n",
        "r = rocauc.poof()\n",
        "error = ClassPredictionError(gb, classes=[0,1])\n",
        "\n",
        "error.score(X_pri, test_pri)\n",
        "e = error.poof()\n",
        "report = ClassificationReport(gb, classes=[0,1],cmap = \"Blues\")\n",
        "\n",
        "report.score(X_pri, test_pri)\n",
        "c = report.poof()"
      ],
      "execution_count": 0,
      "outputs": [
        {
          "output_type": "display_data",
          "data": {
            "image/png": "[encoded data removed]",
            "text/plain": [
              "<Figure size 576x396 with 1 Axes>"
            ]
          },
          "metadata": {
            "tags": []
          }
        },
        {
          "output_type": "display_data",
          "data": {
            "image/png": "[encoded data removed]",
            "text/plain": [
              "<Figure size 576x396 with 1 Axes>"
            ]
          },
          "metadata": {
            "tags": []
          }
        },
        {
          "output_type": "display_data",
          "data": {
            "image/png": "[encoded data removed]",
            "text/plain": [
              "<Figure size 576x396 with 2 Axes>"
            ]
          },
          "metadata": {
            "tags": []
          }
        }
      ]
    },
    {
      "cell_type": "code",
      "metadata": {
        "id": "DJ5-c74AgPEM",
        "colab_type": "code",
        "outputId": "70e3fb6e-c838-4887-c8ca-95b8e889e919",
        "colab": {
          "base_uri": "https://localhost:8080/",
          "height": 301
        }
      },
      "source": [
        "from sklearn.metrics import precision_recall_fscore_support\n",
        "pre_rec_arr = precision_recall_fscore_support(test_pri,y_pred,labels = [0,1])\n",
        "zero_info = [x[0] for x in pre_rec_arr][:-1]\n",
        "one_info = [x[1] for x in pre_rec_arr][:-1]\n",
        "import seaborn as sns; sns.set()\n",
        "arr = np.array([zero_info,one_info])\n",
        "#arr\n",
        "ax = sns.heatmap(arr,annot=True,xticklabels=[\"precision\",\"recall\",\"f1\"],cmap=\"Blues\")\n",
        "ax.set_title(\"XGBoost Precisoin Recall F1-score\")"
      ],
      "execution_count": 0,
      "outputs": [
        {
          "output_type": "execute_result",
          "data": {
            "text/plain": [
              "Text(0.5, 1, 'XGBoost Precisoin Recall F1-score')"
            ]
          },
          "metadata": {
            "tags": []
          },
          "execution_count": 36
        },
        {
          "output_type": "display_data",
          "data": {
            "image/png": "[encoded data removed]",
            "text/plain": [
              "<Figure size 432x288 with 2 Axes>"
            ]
          },
          "metadata": {
            "tags": []
          }
        }
      ]
    },
    {
      "cell_type": "markdown",
      "metadata": {
        "id": "4jjtcghSQExl",
        "colab_type": "text"
      },
      "source": [
        "Train and test on the public data.<br>\n",
        "Before balance,\n",
        "<br>Acc: 90.26%<br>\n",
        "True:674<br>\n",
        "False:463744<br>\n",
        "Precision: 0.856<br>\n",
        "Recall: 0.114<br>\n",
        "F1-score: 0.201<br>\n",
        "Avg Precision Recall: 0.193<br>\n",
        "High precision but low recall. So the true prediction is very pure miss a lot of true labels too. \n",
        "After balance,<br>\n",
        "Acc: 85.13%<br>\n",
        "True: 7797<br>\n",
        "False: 339221<br>\n",
        "Precision: 0.376<br>\n",
        "Recall: 0.580<br>\n",
        "F1-score: 0.456<br>\n",
        "Avg Precision Recall: 0.263<br>\n",
        "Precision is very low, so a lot of true label are actually false! Very high false positive rate."
      ]
    },
    {
      "cell_type": "code",
      "metadata": {
        "id": "-m3Ego9GvUl5",
        "colab_type": "code",
        "colab": {}
      },
      "source": [
        "#ensemble with LSTM\n",
        "xgb_proba = gb.predict_proba(X_pri)"
      ],
      "execution_count": 0,
      "outputs": []
    },
    {
      "cell_type": "code",
      "metadata": {
        "id": "dtSX7MLsxgrn",
        "colab_type": "code",
        "outputId": "0e1f65d0-34a5-49e4-96f1-651708a91b93",
        "colab": {
          "base_uri": "https://localhost:8080/",
          "height": 50
        }
      },
      "source": [
        "print(sum(xgb_proba[:,1]>0.5))#predict 1\n",
        "print(sum(xgb_proba[:,1] < 0.5))#predict 0"
      ],
      "execution_count": 0,
      "outputs": [
        {
          "output_type": "stream",
          "text": [
            "13303\n",
            "84017\n"
          ],
          "name": "stdout"
        }
      ]
    },
    {
      "cell_type": "code",
      "metadata": {
        "id": "IPEM3ZR5v1j2",
        "colab_type": "code",
        "outputId": "45036cf6-e0ed-4df1-d6f9-2b26b9761c20",
        "colab": {
          "base_uri": "https://localhost:8080/",
          "height": 50
        }
      },
      "source": [
        "print(sum(lstm_pred['prediction'] < 0.5))#predict 0\n",
        "print(sum(lstm_pred['prediction'] > 0.5)) #predict 1"
      ],
      "execution_count": 0,
      "outputs": [
        {
          "output_type": "stream",
          "text": [
            "88233\n",
            "9087\n"
          ],
          "name": "stdout"
        }
      ]
    },
    {
      "cell_type": "code",
      "metadata": {
        "id": "yYKy05mp0f0J",
        "colab_type": "code",
        "outputId": "e3dd53c3-49c5-4eef-8f5b-814b000d08d8",
        "colab": {
          "base_uri": "https://localhost:8080/",
          "height": 34
        }
      },
      "source": [
        "sum(test_pri > 0.5)"
      ],
      "execution_count": 0,
      "outputs": [
        {
          "output_type": "execute_result",
          "data": {
            "text/plain": [
              "7671"
            ]
          },
          "metadata": {
            "tags": []
          },
          "execution_count": 91
        }
      ]
    },
    {
      "cell_type": "code",
      "metadata": {
        "id": "LukiA7hRx11F",
        "colab_type": "code",
        "outputId": "7940f0ed-dc04-4227-c6f9-79d870d31df0",
        "colab": {
          "base_uri": "https://localhost:8080/",
          "height": 1000
        }
      },
      "source": [
        "import matplotlib.pyplot as plt\n",
        "for i in np.arange(0,1,0.1):\n",
        "  new_proba = xgb_proba[:,1]*i+lstm_pred['prediction']*(1-i)\n",
        "  predictions_new = np.zeros((len(xgb_proba),1))\n",
        "  predictions_new[new_proba > 0.5,:] = 1\n",
        "  accuracy = accuracy_score(test_pri, predictions_new)\n",
        "  print(i,accuracy)\n",
        "  pre_rec_arr = precision_recall_fscore_support(test_pri,predictions_new,labels = [0,1])\n",
        "  zero_info = [x[0] for x in pre_rec_arr][:-1]\n",
        "  one_info = [x[1] for x in pre_rec_arr][:-1]\n",
        "  plt.figure() \n",
        "  arr = np.array([zero_info,one_info])\n",
        "#arr\n",
        "  ax = sns.heatmap(arr,annot=True,xticklabels=[\"precision\",\"recall\",\"f1\"],cmap=\"Blues\")\n",
        "  ax.set_title(\"Precisoin Recall F1-score\")"
      ],
      "execution_count": 0,
      "outputs": [
        {
          "output_type": "stream",
          "text": [
            "0.0 0.9443485408960132\n",
            "0.1 0.9442868886148787\n",
            "0.2 0.9432182490752158\n",
            "0.30000000000000004 0.9417796958487464\n",
            "0.4 0.9387792848335389\n",
            "0.5 0.9334669132757912\n",
            "0.6000000000000001 0.9263974517057131\n",
            "0.7000000000000001 0.9181052198931361\n",
            "0.8 0.9091348129880805\n",
            "0.9 0.8986333744348541\n"
          ],
          "name": "stdout"
        },
        {
          "output_type": "display_data",
          "data": {
            "image/png": "[encoded data removed]",
            "text/plain": [
              "<Figure size 576x396 with 2 Axes>"
            ]
          },
          "metadata": {
            "tags": []
          }
        },
        {
          "output_type": "display_data",
          "data": {
            "image/png": "[encoded data removed]",
            "text/plain": [
              "<Figure size 576x396 with 2 Axes>"
            ]
          },
          "metadata": {
            "tags": []
          }
        },
        {
          "output_type": "display_data",
          "data": {
            "image/png": "[encoded data removed]",
            "text/plain": [
              "<Figure size 576x396 with 2 Axes>"
            ]
          },
          "metadata": {
            "tags": []
          }
        },
        {
          "output_type": "display_data",
          "data": {
            "image/png": "[encoded data removed]",
            "text/plain": [
              "<Figure size 576x396 with 2 Axes>"
            ]
          },
          "metadata": {
            "tags": []
          }
        },
        {
          "output_type": "display_data",
          "data": {
            "image/png": "[encoded data removed]",
            "text/plain": [
              "<Figure size 576x396 with 2 Axes>"
            ]
          },
          "metadata": {
            "tags": []
          }
        },
        {
          "output_type": "display_data",
          "data": {
            "image/png": "[encoded data removed]",
            "text/plain": [
              "<Figure size 576x396 with 2 Axes>"
            ]
          },
          "metadata": {
            "tags": []
          }
        },
        {
          "output_type": "display_data",
          "data": {
            "image/png": "[encoded data removed]",
            "text/plain": [
              "<Figure size 576x396 with 2 Axes>"
            ]
          },
          "metadata": {
            "tags": []
          }
        },
        {
          "output_type": "display_data",
          "data": {
            "image/png": "[encoded data removed]",
            "text/plain": [
              "<Figure size 576x396 with 2 Axes>"
            ]
          },
          "metadata": {
            "tags": []
          }
        },
        {
          "output_type": "display_data",
          "data": {
            "image/png": "[encoded data removed]",
            "text/plain": [
              "<Figure size 576x396 with 2 Axes>"
            ]
          },
          "metadata": {
            "tags": []
          }
        },
        {
          "output_type": "display_data",
          "data": {
            "image/png": "[encoded data removed]",
            "text/plain": [
              "<Figure size 576x396 with 2 Axes>"
            ]
          },
          "metadata": {
            "tags": []
          }
        }
      ]
    },
    {
      "cell_type": "code",
      "metadata": {
        "id": "A4nonTnzTmAC",
        "colab_type": "code",
        "colab": {}
      },
      "source": [
        "num_pos = (test_pri==1).sum()\n",
        "num_neg = (test_pri==0).sum()\n",
        "gb = XGBClassifier(scale_pos_weight = num_neg/num_pos)#GradientBoostingClassifier(n_estimators=700, max_depth=5)\n",
        "gb.fit(X, test)\n",
        "y_pred = gb.predict(X_pri)\n",
        "predictions = [round(value) for value in y_pred]\n",
        "accuracy = accuracy_score(test_pri, predictions)\n",
        "print(\"Accuracy: %.2f%%\" % (accuracy * 100.0))"
      ],
      "execution_count": 0,
      "outputs": []
    },
    {
      "cell_type": "markdown",
      "metadata": {
        "id": "EIaOX7YqTc1O",
        "colab_type": "text"
      },
      "source": [
        "Train and test on the private data.<br>\n",
        "Before balance,\n",
        "<br>Acc: 90.44%<br>\n",
        "True:152<br>\n",
        "False:12168<br>\n",
        "Precision: 0.888<br>\n",
        "Recall: 0.104<br>\n",
        "F1-score: 0.186<br>\n",
        "Avg Precision Recall: 0.187<br>\n",
        "High precision but low recall. So the true prediction is very pure miss a lot of true labels too. \n",
        "After balance,<br>\n",
        "Acc: 85.47%<br>\n",
        "True: 1986<br>\n",
        "False: 10334<br>\n",
        "Precision: 0.376<br>\n",
        "Recall: 0.576<br>\n",
        "F1-score: 0.455<br>\n",
        "Avg Precision Recall: 0.261<br>\n",
        "Precision is very low, so a lot of true label are actually false! Very high false positive rate."
      ]
    },
    {
      "cell_type": "code",
      "metadata": {
        "id": "E0uUZL7cSazf",
        "colab_type": "code",
        "outputId": "401de538-d8ae-46b6-c06b-1af675981651",
        "colab": {
          "base_uri": "https://localhost:8080/",
          "height": 52
        }
      },
      "source": [
        "print(sum(np.array(predictions) == 1))\n",
        "print(sum(np.array(predictions) == 0))"
      ],
      "execution_count": 0,
      "outputs": [
        {
          "output_type": "stream",
          "text": [
            "152\n",
            "12168\n"
          ],
          "name": "stdout"
        }
      ]
    },
    {
      "cell_type": "code",
      "metadata": {
        "id": "10IV9RvJP9ws",
        "colab_type": "code",
        "outputId": "d679aeb9-4cf7-4e54-d61c-1944aac024a7",
        "colab": {
          "base_uri": "https://localhost:8080/",
          "height": 88
        }
      },
      "source": [
        "from sklearn.metrics import average_precision_score\n",
        "from sklearn.metrics import f1_score\n",
        "from sklearn.metrics import precision_score\n",
        "from sklearn.metrics import recall_score\n",
        "print(average_precision_score(test_pri, predictions))\n",
        "print(f1_score(test_pri,predictions))\n",
        "print(recall_score(test_pri,predictions))\n",
        "print(precision_score(test_pri,predictions))"
      ],
      "execution_count": 0,
      "outputs": [
        {
          "output_type": "stream",
          "text": [
            "0.2603518763758695\n",
            "0.45418080839247144\n",
            "0.5679012345679012\n",
            "0.37840616966580976\n"
          ],
          "name": "stdout"
        }
      ]
    },
    {
      "cell_type": "code",
      "metadata": {
        "id": "meVqZEpii9sg",
        "colab_type": "code",
        "outputId": "1497df1c-8c2b-4a42-99d4-09ec7a2379b2",
        "colab": {
          "base_uri": "https://localhost:8080/",
          "height": 177
        }
      },
      "source": [
        "from sklearn.metrics import classification_report\n",
        "print(classification_report(test_pri,predictions))"
      ],
      "execution_count": 0,
      "outputs": [
        {
          "output_type": "stream",
          "text": [
            "              precision    recall  f1-score   support\n",
            "\n",
            "           0       0.90      1.00      0.95     11024\n",
            "           1       0.89      0.10      0.19      1296\n",
            "\n",
            "    accuracy                           0.90     12320\n",
            "   macro avg       0.90      0.55      0.57     12320\n",
            "weighted avg       0.90      0.90      0.87     12320\n",
            "\n"
          ],
          "name": "stdout"
        }
      ]
    },
    {
      "cell_type": "code",
      "metadata": {
        "id": "xhmbh8niechP",
        "colab_type": "code",
        "colab": {}
      },
      "source": [
        "#Train the model on the attributions\n",
        "train_att = train.loc[:,[col for col in train.columns if col not in [\"id\",\"severe_toxicity\",\"obscene\",\"threat\",\"insult\",\"identity_attack\",\"sexual_explicit\",\"comment_text\",\"identity_annotator_count\",\"toxicity_annotator_count\",\"created_date\",\"publication_id\",\"parent_id\",\"article_id\",\"rating\"]]]\n",
        "test_att = train_pri.loc[:,[col for col in train.columns if col not in [\"id\",\"severe_toxicity\",\"obscene\",\"threat\",\"insult\",\"identity_attack\",\"sexual_explicit\",\"comment_text\",\"identity_annotator_count\",\"toxicity_annotator_count\",\"created_date\",\"publication_id\",\"parent_id\",\"article_id\",\"rating\"]]]"
      ],
      "execution_count": 0,
      "outputs": []
    },
    {
      "cell_type": "code",
      "metadata": {
        "id": "niu0NYs2naDZ",
        "colab_type": "code",
        "outputId": "395352bd-40a6-4f82-e663-d5acf0c22ca1",
        "colab": {
          "base_uri": "https://localhost:8080/",
          "height": 215
        }
      },
      "source": [
        "train_att.head()"
      ],
      "execution_count": 0,
      "outputs": [
        {
          "output_type": "execute_result",
          "data": {
            "text/html": [
              "<div>\n",
              "<style scoped>\n",
              "    .dataframe tbody tr th:only-of-type {\n",
              "        vertical-align: middle;\n",
              "    }\n",
              "\n",
              "    .dataframe tbody tr th {\n",
              "        vertical-align: top;\n",
              "    }\n",
              "\n",
              "    .dataframe thead th {\n",
              "        text-align: right;\n",
              "    }\n",
              "</style>\n",
              "<table border=\"1\" class=\"dataframe\">\n",
              "  <thead>\n",
              "    <tr style=\"text-align: right;\">\n",
              "      <th></th>\n",
              "      <th>id</th>\n",
              "      <th>asian</th>\n",
              "      <th>atheist</th>\n",
              "      <th>bisexual</th>\n",
              "      <th>black</th>\n",
              "      <th>buddhist</th>\n",
              "      <th>christian</th>\n",
              "      <th>female</th>\n",
              "      <th>heterosexual</th>\n",
              "      <th>hindu</th>\n",
              "      <th>homosexual_gay_or_lesbian</th>\n",
              "      <th>intellectual_or_learning_disability</th>\n",
              "      <th>jewish</th>\n",
              "      <th>latino</th>\n",
              "      <th>male</th>\n",
              "      <th>muslim</th>\n",
              "      <th>other_disability</th>\n",
              "      <th>other_gender</th>\n",
              "      <th>other_race_or_ethnicity</th>\n",
              "      <th>other_religion</th>\n",
              "      <th>other_sexual_orientation</th>\n",
              "      <th>physical_disability</th>\n",
              "      <th>psychiatric_or_mental_illness</th>\n",
              "      <th>transgender</th>\n",
              "      <th>white</th>\n",
              "      <th>funny</th>\n",
              "      <th>wow</th>\n",
              "      <th>sad</th>\n",
              "      <th>likes</th>\n",
              "      <th>disagree</th>\n",
              "    </tr>\n",
              "  </thead>\n",
              "  <tbody>\n",
              "    <tr>\n",
              "      <th>11</th>\n",
              "      <td>239579</td>\n",
              "      <td>0.0</td>\n",
              "      <td>0.0</td>\n",
              "      <td>0.0</td>\n",
              "      <td>0.0</td>\n",
              "      <td>0.0</td>\n",
              "      <td>0.0</td>\n",
              "      <td>0.0</td>\n",
              "      <td>0.0</td>\n",
              "      <td>0.0</td>\n",
              "      <td>0.0</td>\n",
              "      <td>0.0</td>\n",
              "      <td>0.0</td>\n",
              "      <td>0.0</td>\n",
              "      <td>0.6</td>\n",
              "      <td>0.0</td>\n",
              "      <td>0.0</td>\n",
              "      <td>0.0</td>\n",
              "      <td>0.0</td>\n",
              "      <td>0.0</td>\n",
              "      <td>0.0</td>\n",
              "      <td>0.0</td>\n",
              "      <td>0.0</td>\n",
              "      <td>0.0</td>\n",
              "      <td>0.0</td>\n",
              "      <td>0</td>\n",
              "      <td>0</td>\n",
              "      <td>0</td>\n",
              "      <td>1</td>\n",
              "      <td>0</td>\n",
              "    </tr>\n",
              "    <tr>\n",
              "      <th>31</th>\n",
              "      <td>239607</td>\n",
              "      <td>0.0</td>\n",
              "      <td>0.0</td>\n",
              "      <td>0.0</td>\n",
              "      <td>0.0</td>\n",
              "      <td>0.0</td>\n",
              "      <td>1.0</td>\n",
              "      <td>0.0</td>\n",
              "      <td>0.0</td>\n",
              "      <td>0.0</td>\n",
              "      <td>0.0</td>\n",
              "      <td>0.0</td>\n",
              "      <td>0.0</td>\n",
              "      <td>0.0</td>\n",
              "      <td>0.0</td>\n",
              "      <td>1.0</td>\n",
              "      <td>0.0</td>\n",
              "      <td>0.0</td>\n",
              "      <td>0.0</td>\n",
              "      <td>0.0</td>\n",
              "      <td>0.0</td>\n",
              "      <td>0.0</td>\n",
              "      <td>0.0</td>\n",
              "      <td>0.0</td>\n",
              "      <td>0.0</td>\n",
              "      <td>0</td>\n",
              "      <td>0</td>\n",
              "      <td>0</td>\n",
              "      <td>1</td>\n",
              "      <td>0</td>\n",
              "    </tr>\n",
              "    <tr>\n",
              "      <th>51</th>\n",
              "      <td>239644</td>\n",
              "      <td>0.0</td>\n",
              "      <td>0.0</td>\n",
              "      <td>0.0</td>\n",
              "      <td>0.0</td>\n",
              "      <td>0.0</td>\n",
              "      <td>0.0</td>\n",
              "      <td>0.0</td>\n",
              "      <td>0.0</td>\n",
              "      <td>0.0</td>\n",
              "      <td>0.0</td>\n",
              "      <td>0.0</td>\n",
              "      <td>0.0</td>\n",
              "      <td>0.0</td>\n",
              "      <td>0.0</td>\n",
              "      <td>0.0</td>\n",
              "      <td>0.0</td>\n",
              "      <td>0.0</td>\n",
              "      <td>0.0</td>\n",
              "      <td>0.0</td>\n",
              "      <td>0.0</td>\n",
              "      <td>0.0</td>\n",
              "      <td>0.0</td>\n",
              "      <td>0.0</td>\n",
              "      <td>0.0</td>\n",
              "      <td>0</td>\n",
              "      <td>0</td>\n",
              "      <td>0</td>\n",
              "      <td>0</td>\n",
              "      <td>0</td>\n",
              "    </tr>\n",
              "    <tr>\n",
              "      <th>58</th>\n",
              "      <td>239653</td>\n",
              "      <td>0.0</td>\n",
              "      <td>0.0</td>\n",
              "      <td>0.0</td>\n",
              "      <td>0.0</td>\n",
              "      <td>0.0</td>\n",
              "      <td>0.2</td>\n",
              "      <td>0.0</td>\n",
              "      <td>0.0</td>\n",
              "      <td>0.0</td>\n",
              "      <td>0.0</td>\n",
              "      <td>0.0</td>\n",
              "      <td>0.0</td>\n",
              "      <td>0.0</td>\n",
              "      <td>0.0</td>\n",
              "      <td>0.0</td>\n",
              "      <td>0.0</td>\n",
              "      <td>0.0</td>\n",
              "      <td>0.0</td>\n",
              "      <td>0.2</td>\n",
              "      <td>0.0</td>\n",
              "      <td>0.0</td>\n",
              "      <td>0.0</td>\n",
              "      <td>0.0</td>\n",
              "      <td>0.0</td>\n",
              "      <td>0</td>\n",
              "      <td>0</td>\n",
              "      <td>0</td>\n",
              "      <td>2</td>\n",
              "      <td>0</td>\n",
              "    </tr>\n",
              "    <tr>\n",
              "      <th>111</th>\n",
              "      <td>239744</td>\n",
              "      <td>0.0</td>\n",
              "      <td>0.0</td>\n",
              "      <td>0.0</td>\n",
              "      <td>0.0</td>\n",
              "      <td>0.0</td>\n",
              "      <td>0.0</td>\n",
              "      <td>0.0</td>\n",
              "      <td>0.0</td>\n",
              "      <td>0.0</td>\n",
              "      <td>0.0</td>\n",
              "      <td>0.0</td>\n",
              "      <td>0.0</td>\n",
              "      <td>0.0</td>\n",
              "      <td>0.0</td>\n",
              "      <td>0.0</td>\n",
              "      <td>0.0</td>\n",
              "      <td>0.0</td>\n",
              "      <td>0.0</td>\n",
              "      <td>0.0</td>\n",
              "      <td>0.0</td>\n",
              "      <td>0.0</td>\n",
              "      <td>0.0</td>\n",
              "      <td>0.0</td>\n",
              "      <td>0.0</td>\n",
              "      <td>0</td>\n",
              "      <td>0</td>\n",
              "      <td>0</td>\n",
              "      <td>1</td>\n",
              "      <td>0</td>\n",
              "    </tr>\n",
              "  </tbody>\n",
              "</table>\n",
              "</div>"
            ],
            "text/plain": [
              "         id  asian  atheist  bisexual  black  ...  funny  wow  sad  likes  disagree\n",
              "11   239579    0.0      0.0       0.0    0.0  ...      0    0    0      1         0\n",
              "31   239607    0.0      0.0       0.0    0.0  ...      0    0    0      1         0\n",
              "51   239644    0.0      0.0       0.0    0.0  ...      0    0    0      0         0\n",
              "58   239653    0.0      0.0       0.0    0.0  ...      0    0    0      2         0\n",
              "111  239744    0.0      0.0       0.0    0.0  ...      0    0    0      1         0\n",
              "\n",
              "[5 rows x 30 columns]"
            ]
          },
          "metadata": {
            "tags": []
          },
          "execution_count": 11
        }
      ]
    },
    {
      "cell_type": "code",
      "metadata": {
        "id": "Kb7CmeqqoTGV",
        "colab_type": "code",
        "outputId": "4340e19c-242c-42c2-9922-35c7a1721e5f",
        "colab": {
          "base_uri": "https://localhost:8080/",
          "height": 34
        }
      },
      "source": [
        "num_pos = (test_pri==1).sum()\n",
        "num_neg = (test_pri==0).sum()\n",
        "gb = XGBClassifier()#GradientBoostingClassifier(n_estimators=700, max_depth=5)\n",
        "gb.fit(train_att, test)\n",
        "y_pred = gb.predict(test_att)\n",
        "predictions = [round(value) for value in y_pred]\n",
        "accuracy = accuracy_score(test_pri, predictions)\n",
        "print(\"Accuracy: %.2f%%\" % (accuracy * 100.0))"
      ],
      "execution_count": 0,
      "outputs": [
        {
          "output_type": "stream",
          "text": [
            "Accuracy: 89.50%\n"
          ],
          "name": "stdout"
        }
      ]
    },
    {
      "cell_type": "markdown",
      "metadata": {
        "id": "AvzsRHZBolxP",
        "colab_type": "text"
      },
      "source": [
        "Train and test on the private data.<br>\n",
        "Before balance,\n",
        "<br>Acc: 89.50%<br>\n",
        "True:23<br>\n",
        "False:12297<br>\n",
        "Precision: 0.565<br>\n",
        "Recall: 0.01<br>\n",
        "F1-score: 0.02<br>\n",
        "Avg Precision Recall: 0.110<br>\n",
        "Very low performance. Even though it has high accuracy\n",
        "After balance,\n",
        "<br>Acc: 74.23%<br>\n",
        "True:3265<br>\n",
        "False:9055<br>\n",
        "Precision: 0.212<br>\n",
        "Recall: 0.535<br>\n",
        "F1-score: 0.304<br>\n",
        "Avg Precision Recall: 0.162<br>\n",
        "Precision is very low, so a lot of true label are actually false! Very high false positive rate."
      ]
    },
    {
      "cell_type": "code",
      "metadata": {
        "id": "L1K8hTR_pfWE",
        "colab_type": "code",
        "colab": {}
      },
      "source": [
        "#Try to balance the data and do the nlp again!\n"
      ],
      "execution_count": 0,
      "outputs": []
    },
    {
      "cell_type": "code",
      "metadata": {
        "id": "WaleSbARMO2p",
        "colab_type": "code",
        "colab": {}
      },
      "source": [
        "le = LabelEncoder() \n",
        "#np.set_printoptions(threshold=100)\n",
        "\n",
        "# df = pd.read_csv(\"../MIDAS/project_profit.csv\", encoding = \"ISO-8859-1\")\n",
        "#df = pd.read_csv(\"project_profit.csv\", encoding = \"ISO-8859-1\")\n",
        "#This time we dont need to drop nan cuz xgboost will handle it!\n",
        "num_pos = (y_train==1).sum()\n",
        "num_neg = (y_train==0).sum()\n",
        "gb = XGBClassifier()#GradientBoostingClassifier(n_estimators=700, max_depth=5)\n",
        "#df = df.replace([np.inf, -np.inf], sys.maxsize)\n",
        "\n",
        "catagory_idx = []\n",
        "i = 0\n",
        "for (col_name, col) in df.iteritems():\n",
        "  if col.dtype == 'object':\n",
        "    df[col_name] = le.fit_transform(df[col_name])\n",
        "    catagory_idx.append(i)\n",
        "  i += 1\n",
        "\n",
        "onehotencoder = OneHotEncoder(categorical_features = catagory_idx)\n",
        "# df = df.dropna(axis=0)\n",
        "# response = df['profit']\n",
        "# df = df.drop(columns=['profit'])#, 'profit_per', 'total profit', 'FamilyRevenueMTD', 'FamilyOverheadMTD', 'FamilyCostMTD', 'CostMTD', 'OverheadMTD'])\n",
        "# features = list(df.columns)\n",
        "\n",
        "idx = np.random.permutation(response.shape[0])\n",
        "#print((df == np.nan).sum())\n",
        "rand_pred = df#np.array(df)\n",
        "rand_resp = np.array(response)[idx]\n",
        "rand_pred = rand_pred.iloc[idx]\n",
        "\n",
        "gb.fit(train_att, test)\n",
        "y_pred = gb.predict(test_att)\n",
        "predictions = [round(value) for value in y_pred]\n",
        "accuracy = accuracy_score(test_pri, predictions)\n",
        "print(\"Accuracy: %.2f%%\" % (accuracy * 100.0))\n"
      ],
      "execution_count": 0,
      "outputs": []
    },
    {
      "cell_type": "code",
      "metadata": {
        "id": "56D3iYuPPyO0",
        "colab_type": "code",
        "colab": {}
      },
      "source": [
        "#!pip install shap\n",
        "import shap"
      ],
      "execution_count": 0,
      "outputs": []
    },
    {
      "cell_type": "code",
      "metadata": {
        "id": "wwXlwxOwPyyG",
        "colab_type": "code",
        "colab": {}
      },
      "source": [
        "shap_values = shap.TreeExplainer(gb).shap_values(X)\n",
        "shap.summary_plot(shap_values, X, plot_type='bar')\n",
        "shap.summary_plot(shap_values, X)"
      ],
      "execution_count": 0,
      "outputs": []
    },
    {
      "cell_type": "code",
      "metadata": {
        "id": "ASkuCmfSMO2D",
        "colab_type": "code",
        "colab": {}
      },
      "source": [
        ""
      ],
      "execution_count": 0,
      "outputs": []
    },
    {
      "cell_type": "code",
      "metadata": {
        "id": "UYHydztsMO1i",
        "colab_type": "code",
        "outputId": "7aaca6c1-5444-441d-c43b-e7b910fd89c2",
        "colab": {
          "base_uri": "https://localhost:8080/",
          "height": 419
        }
      },
      "source": [
        ""
      ],
      "execution_count": 0,
      "outputs": [
        {
          "output_type": "execute_result",
          "data": {
            "text/html": [
              "<div>\n",
              "<style scoped>\n",
              "    .dataframe tbody tr th:only-of-type {\n",
              "        vertical-align: middle;\n",
              "    }\n",
              "\n",
              "    .dataframe tbody tr th {\n",
              "        vertical-align: top;\n",
              "    }\n",
              "\n",
              "    .dataframe thead th {\n",
              "        text-align: right;\n",
              "    }\n",
              "</style>\n",
              "<table border=\"1\" class=\"dataframe\">\n",
              "  <thead>\n",
              "    <tr style=\"text-align: right;\">\n",
              "      <th></th>\n",
              "      <th>target</th>\n",
              "      <th>comment_text</th>\n",
              "    </tr>\n",
              "  </thead>\n",
              "  <tbody>\n",
              "    <tr>\n",
              "      <th>11</th>\n",
              "      <td>0.4400</td>\n",
              "      <td>This is a great story. Man. I wonder if the pe...</td>\n",
              "    </tr>\n",
              "    <tr>\n",
              "      <th>31</th>\n",
              "      <td>0.9125</td>\n",
              "      <td>Yet call out all Muslims for the acts of a few...</td>\n",
              "    </tr>\n",
              "    <tr>\n",
              "      <th>51</th>\n",
              "      <td>0.0000</td>\n",
              "      <td>Because the people who drive cars more are the...</td>\n",
              "    </tr>\n",
              "    <tr>\n",
              "      <th>58</th>\n",
              "      <td>0.3000</td>\n",
              "      <td>Mormons have had a complicated relationship wi...</td>\n",
              "    </tr>\n",
              "    <tr>\n",
              "      <th>111</th>\n",
              "      <td>0.0000</td>\n",
              "      <td>I'm doing the same thing! :)</td>\n",
              "    </tr>\n",
              "    <tr>\n",
              "      <th>...</th>\n",
              "      <td>...</td>\n",
              "      <td>...</td>\n",
              "    </tr>\n",
              "    <tr>\n",
              "      <th>1804852</th>\n",
              "      <td>0.3000</td>\n",
              "      <td>Xi and his comrades must be smirking over Trum...</td>\n",
              "    </tr>\n",
              "    <tr>\n",
              "      <th>1804858</th>\n",
              "      <td>0.2000</td>\n",
              "      <td>My thought exactly.  The only people he hasn't...</td>\n",
              "    </tr>\n",
              "    <tr>\n",
              "      <th>1804861</th>\n",
              "      <td>0.0000</td>\n",
              "      <td>I agree, Bill G\\nThe vote-buying has begun by ...</td>\n",
              "    </tr>\n",
              "    <tr>\n",
              "      <th>1804862</th>\n",
              "      <td>0.0000</td>\n",
              "      <td>No, the probability of dying may be very, very...</td>\n",
              "    </tr>\n",
              "    <tr>\n",
              "      <th>1804863</th>\n",
              "      <td>0.2000</td>\n",
              "      <td>Nah, I am too boring to parody.  This guy Camp...</td>\n",
              "    </tr>\n",
              "  </tbody>\n",
              "</table>\n",
              "<p>235087 rows × 2 columns</p>\n",
              "</div>"
            ],
            "text/plain": [
              "         target                                       comment_text\n",
              "11       0.4400  This is a great story. Man. I wonder if the pe...\n",
              "31       0.9125  Yet call out all Muslims for the acts of a few...\n",
              "51       0.0000  Because the people who drive cars more are the...\n",
              "58       0.3000  Mormons have had a complicated relationship wi...\n",
              "111      0.0000                       I'm doing the same thing! :)\n",
              "...         ...                                                ...\n",
              "1804852  0.3000  Xi and his comrades must be smirking over Trum...\n",
              "1804858  0.2000  My thought exactly.  The only people he hasn't...\n",
              "1804861  0.0000  I agree, Bill G\\nThe vote-buying has begun by ...\n",
              "1804862  0.0000  No, the probability of dying may be very, very...\n",
              "1804863  0.2000  Nah, I am too boring to parody.  This guy Camp...\n",
              "\n",
              "[235087 rows x 2 columns]"
            ]
          },
          "metadata": {
            "tags": []
          },
          "execution_count": 166
        }
      ]
    },
    {
      "cell_type": "markdown",
      "metadata": {
        "id": "PYbrJcQTqaup",
        "colab_type": "text"
      },
      "source": [
        "## Random Forest"
      ]
    },
    {
      "cell_type": "code",
      "metadata": {
        "id": "MMo_joE1qZa5",
        "colab_type": "code",
        "outputId": "2112933f-09f2-487f-f78e-581396e9d148",
        "colab": {
          "base_uri": "https://localhost:8080/",
          "height": 68
        }
      },
      "source": [
        "from sklearn.ensemble import RandomForestClassifier\n",
        "rf = RandomForestClassifier(class_weight=\"balanced\")\n",
        "rf.fit(X,test)\n",
        "y_pred = rf.predict(X_pri)\n",
        "predictions = [round(value) for value in y_pred]\n",
        "accuracy = accuracy_score(test_pri, predictions)\n",
        "print(\"Accuracy: %.2f%%\" % (accuracy * 100.0))"
      ],
      "execution_count": 0,
      "outputs": [
        {
          "output_type": "stream",
          "text": [
            "/usr/local/lib/python3.6/dist-packages/sklearn/ensemble/forest.py:245: FutureWarning: The default value of n_estimators will change from 10 in version 0.20 to 100 in 0.22.\n",
            "  \"10 in version 0.20 to 100 in 0.22.\", FutureWarning)\n"
          ],
          "name": "stderr"
        },
        {
          "output_type": "stream",
          "text": [
            "Accuracy: 89.94%\n"
          ],
          "name": "stdout"
        }
      ]
    },
    {
      "cell_type": "code",
      "metadata": {
        "id": "AW_98gkr7iIz",
        "colab_type": "code",
        "outputId": "277345b5-f064-4d03-d086-9174628e699f",
        "colab": {
          "base_uri": "https://localhost:8080/",
          "height": 386
        }
      },
      "source": [
        "from sklearn.metrics import precision_recall_fscore_support\n",
        "pre_rec_arr = precision_recall_fscore_support(test_pri,y_pred,labels = [0,1])\n",
        "zero_info = [x[0] for x in pre_rec_arr][:-1]\n",
        "one_info = [x[1] for x in pre_rec_arr][:-1]\n",
        "import seaborn as sns; sns.set()\n",
        "arr = np.array([zero_info,one_info])\n",
        "#arr\n",
        "ax = sns.heatmap(arr,annot=True,xticklabels=[\"precision\",\"recall\",\"f1\"],cmap=\"Blues\")\n",
        "ax.set_title(\"RandomForest Precisoin Recall F1-score\")"
      ],
      "execution_count": 0,
      "outputs": [
        {
          "output_type": "execute_result",
          "data": {
            "text/plain": [
              "Text(0.5, 1, 'RandomForest Precisoin Recall F1-score')"
            ]
          },
          "metadata": {
            "tags": []
          },
          "execution_count": 169
        },
        {
          "output_type": "display_data",
          "data": {
            "image/png": "[encoded data removed]",
            "text/plain": [
              "<Figure size 576x396 with 2 Axes>"
            ]
          },
          "metadata": {
            "tags": []
          }
        }
      ]
    },
    {
      "cell_type": "markdown",
      "metadata": {
        "id": "2WU6vvGvqN3T",
        "colab_type": "text"
      },
      "source": [
        "#Try XGboosT UI"
      ]
    },
    {
      "cell_type": "code",
      "metadata": {
        "id": "Zx84ZVqcMO1K",
        "colab_type": "code",
        "outputId": "8693d252-8f62-4ed3-b68b-3b61c6e39058",
        "colab": {
          "base_uri": "https://localhost:8080/",
          "height": 34
        }
      },
      "source": [
        "import pickle\n",
        "model_name = './XGBoost_balanced.sav'\n",
        "fp = open(model_name,\"rb\")\n",
        "model_xgboost = pickle.load(fp)\n",
        "print(\"loading tokenizer\")\n",
        "tokenizer = pickle.load(open('./vector_sentence.bin','rb'))"
      ],
      "execution_count": 0,
      "outputs": [
        {
          "output_type": "stream",
          "text": [
            "loading tokenizer\n"
          ],
          "name": "stdout"
        }
      ]
    },
    {
      "cell_type": "code",
      "metadata": {
        "id": "REzYd-4zj1eY",
        "colab_type": "code",
        "colab": {}
      },
      "source": [
        "def inference_xgboost(input_text, model_xgboost, tokenizer):\n",
        "  print(\"Predicting\")\n",
        "  X_test = tokenizer.transform(input_text)\n",
        "  pred = model_xgboost.predict_proba(X_test)\n",
        "  print(\"non-toxic\",pred[0][0])\n",
        "  print(\"toxic\",pred[0][1])\n"
      ],
      "execution_count": 0,
      "outputs": []
    },
    {
      "cell_type": "code",
      "metadata": {
        "id": "kqXyVkRxl6TO",
        "colab_type": "code",
        "colab": {}
      },
      "source": [
        "def inference_SVM(input_text, model_SVM, tokenizer):\n",
        "  print(\"Predicting\")\n",
        "  X_test = tokenizer.transform(input_text)\n",
        "  pred = model_SVM.predict_proba(X_test)\n",
        "  print(\"non-toxic\",pred[0][0])\n",
        "  print(\"toxic\",pred[0][1])"
      ],
      "execution_count": 0,
      "outputs": []
    },
    {
      "cell_type": "code",
      "metadata": {
        "id": "fs1xtGrcMO0z",
        "colab_type": "code",
        "outputId": "f1aa8c9c-ad83-4de3-f993-d2cf38ba25c6",
        "colab": {
          "base_uri": "https://localhost:8080/",
          "height": 68
        }
      },
      "source": [
        "inference_xgboost(['This is a great story. Man. I wonder if the person who yelled \"shut the fuck up!\" at him ever heard it.'],model_xgboost=model_xgboost,tokenizer=tokenizer)"
      ],
      "execution_count": 0,
      "outputs": [
        {
          "output_type": "stream",
          "text": [
            "Predicting\n",
            "non-toxic 0.62779164\n",
            "toxic 0.37220833\n"
          ],
          "name": "stdout"
        }
      ]
    },
    {
      "cell_type": "code",
      "metadata": {
        "id": "PBn4hc5xkwT1",
        "colab_type": "code",
        "outputId": "40201a18-719f-4d4c-efdd-f653b7d245f9",
        "colab": {
          "base_uri": "https://localhost:8080/",
          "height": 68
        }
      },
      "source": [
        "inference_xgboost(['Nah, I am too boring to parody.  This guy Campbe, II, is a magician--he chose you and indubitably snarky.  A lot of bang for the buck there! :D'],model_xgboost=model_xgboost,tokenizer=tokenizer)"
      ],
      "execution_count": 0,
      "outputs": [
        {
          "output_type": "stream",
          "text": [
            "Predicting\n",
            "non-toxic 0.5840103\n",
            "toxic 0.4159897\n"
          ],
          "name": "stdout"
        }
      ]
    },
    {
      "cell_type": "code",
      "metadata": {
        "id": "F1dVLAqsk1m1",
        "colab_type": "code",
        "outputId": "9924b17f-5726-40fa-c805-f849cd7145e6",
        "colab": {
          "base_uri": "https://localhost:8080/",
          "height": 68
        }
      },
      "source": [
        "inference_xgboost(['haha you guys a bunch of losers'],model_xgboost=model_xgboost,tokenizer=tokenizer)"
      ],
      "execution_count": 0,
      "outputs": [
        {
          "output_type": "stream",
          "text": [
            "Predicting\n",
            "non-toxic 0.58234906\n",
            "toxic 0.41765097\n"
          ],
          "name": "stdout"
        }
      ]
    },
    {
      "cell_type": "code",
      "metadata": {
        "id": "A2eIAs72k8F3",
        "colab_type": "code",
        "outputId": "3cdaf248-0982-4741-80ea-6e951da04c9a",
        "colab": {
          "base_uri": "https://localhost:8080/",
          "height": 68
        }
      },
      "source": [
        "inference_xgboost([\"Yet call out all Muslims for the acts of a few will get you pilloried.   So why is it okay to smear an entire religion over these few idiots?  Or is this because it's okay to bash Christian sects?\"],model_xgboost=model_xgboost,tokenizer=tokenizer)"
      ],
      "execution_count": 0,
      "outputs": [
        {
          "output_type": "stream",
          "text": [
            "Predicting\n",
            "non-toxic 0.21547359\n",
            "toxic 0.7845264\n"
          ],
          "name": "stdout"
        }
      ]
    },
    {
      "cell_type": "code",
      "metadata": {
        "id": "WAKHG1qAms2E",
        "colab_type": "code",
        "outputId": "6f2afcfd-d76d-4ea6-e66f-c801cb8be2a5",
        "colab": {
          "base_uri": "https://localhost:8080/",
          "height": 68
        }
      },
      "source": [
        "inference_xgboost(['Because the people who drive cars more are the ones who cause more wear and tear on the roads?  Pretty fair and straightforward.'],model_xgboost=model_xgboost,tokenizer=tokenizer)"
      ],
      "execution_count": 0,
      "outputs": [
        {
          "output_type": "stream",
          "text": [
            "Predicting\n",
            "non-toxic 0.60715044\n",
            "toxic 0.39284956\n"
          ],
          "name": "stdout"
        }
      ]
    },
    {
      "cell_type": "code",
      "metadata": {
        "id": "9qiqVUP5m1xj",
        "colab_type": "code",
        "outputId": "3ca4a464-30bf-4cae-aae2-752dd1a0feb9",
        "colab": {
          "base_uri": "https://localhost:8080/",
          "height": 68
        }
      },
      "source": [
        "inference_xgboost(['At the end of 2017 the Civil Comments platform shut down and chose make their ~2m public comments from their platform available in a lasting open archive so that researchers could understand and improve civility in online conversations for years to come. Jigsaw sponsored this effort and extended annotation of this data by human raters for various toxic conversational attributes.'],model_xgboost=model_xgboost,tokenizer=tokenizer)"
      ],
      "execution_count": 0,
      "outputs": [
        {
          "output_type": "stream",
          "text": [
            "Predicting\n",
            "non-toxic 0.6145083\n",
            "toxic 0.3854917\n"
          ],
          "name": "stdout"
        }
      ]
    },
    {
      "cell_type": "code",
      "metadata": {
        "id": "KB_fbPOhm8gT",
        "colab_type": "code",
        "outputId": "e3fc50e3-d1ed-4d6a-c04b-8ed80ef19282",
        "colab": {
          "base_uri": "https://localhost:8080/",
          "height": 68
        }
      },
      "source": [
        "inference_xgboost(['male,female,transgender,other_gender,heterosexual,homosexual_gay_or_lesbian,bisexual,other_sexual_orientation,christian,jewish,muslim,hindu,buddhist,atheist,other_religion,black,white,asian,latino'],model_xgboost=model_xgboost,tokenizer=tokenizer)"
      ],
      "execution_count": 0,
      "outputs": [
        {
          "output_type": "stream",
          "text": [
            "Predicting\n",
            "non-toxic 0.17139655\n",
            "toxic 0.82860345\n"
          ],
          "name": "stdout"
        }
      ]
    },
    {
      "cell_type": "code",
      "metadata": {
        "id": "woM8lzM7MOzb",
        "colab_type": "code",
        "outputId": "54804f5b-aa13-4517-a416-b044d43c2b2c",
        "colab": {
          "base_uri": "https://localhost:8080/",
          "height": 51
        }
      },
      "source": [
        "model_xgboost.predict_proba(tokenizer.transform([\"good\",\"bad\"]))"
      ],
      "execution_count": 0,
      "outputs": [
        {
          "output_type": "execute_result",
          "data": {
            "text/plain": [
              "array([[0.5899681 , 0.41003194],\n",
              "       [0.5899681 , 0.41003194]], dtype=float32)"
            ]
          },
          "metadata": {
            "tags": []
          },
          "execution_count": 141
        }
      ]
    },
    {
      "cell_type": "code",
      "metadata": {
        "id": "hcsD8BzgMOyE",
        "colab_type": "code",
        "colab": {}
      },
      "source": [
        "a = df.loc[:,[\"target\",\"comment_text\"]]"
      ],
      "execution_count": 0,
      "outputs": []
    },
    {
      "cell_type": "code",
      "metadata": {
        "id": "vHcvp5jzMOxu",
        "colab_type": "code",
        "outputId": "f44d4c11-4d74-453d-f838-a4da70c26fe8",
        "colab": {
          "base_uri": "https://localhost:8080/",
          "height": 34
        }
      },
      "source": [
        "a.loc[a['target']>0.5,:].iloc[0,1]"
      ],
      "execution_count": 0,
      "outputs": [
        {
          "output_type": "execute_result",
          "data": {
            "text/plain": [
              "\"Yet call out all Muslims for the acts of a few will get you pilloried.   So why is it okay to smear an entire religion over these few idiots?  Or is this because it's okay to bash Christian sects?\""
            ]
          },
          "metadata": {
            "tags": []
          },
          "execution_count": 119
        }
      ]
    },
    {
      "cell_type": "code",
      "metadata": {
        "id": "PRhVBYIkMOwY",
        "colab_type": "code",
        "outputId": "ae52f838-f7a1-4dec-92e3-bb21ac10c263",
        "colab": {
          "base_uri": "https://localhost:8080/",
          "height": 34
        }
      },
      "source": [
        "a.loc[a['target']<0.5,:].iloc[1,1]"
      ],
      "execution_count": 0,
      "outputs": [
        {
          "output_type": "execute_result",
          "data": {
            "text/plain": [
              "'Because the people who drive cars more are the ones who cause more wear and tear on the roads?  Pretty fair and straightforward.'"
            ]
          },
          "metadata": {
            "tags": []
          },
          "execution_count": 140
        }
      ]
    },
    {
      "cell_type": "code",
      "metadata": {
        "id": "SR_j1iaXMOv5",
        "colab_type": "code",
        "outputId": "3af0c2b1-6281-4ccf-d243-475131f8a689",
        "colab": {
          "base_uri": "https://localhost:8080/",
          "height": 51
        }
      },
      "source": [
        "model_xgboost.predict_proba(tokenizer.transform([\"Because the people who drive cars more are the ones who cause more wear and tear on the roads?  Pretty fair and straightforward.\",\"Yet call out all Muslims for the acts of a few will get you pilloried.   So why is it okay to smear an entire religion over these few idiots?  Or is this because it's okay to bash Christian sects?\"]))"
      ],
      "execution_count": 0,
      "outputs": [
        {
          "output_type": "execute_result",
          "data": {
            "text/plain": [
              "array([[0.60715044, 0.39284956],\n",
              "       [0.21547359, 0.7845264 ]], dtype=float32)"
            ]
          },
          "metadata": {
            "tags": []
          },
          "execution_count": 157
        }
      ]
    },
    {
      "cell_type": "code",
      "metadata": {
        "id": "iaVl_2VQMOvX",
        "colab_type": "code",
        "colab": {}
      },
      "source": [
        ""
      ],
      "execution_count": 0,
      "outputs": []
    },
    {
      "cell_type": "code",
      "metadata": {
        "id": "X7wn7fT9MOu1",
        "colab_type": "code",
        "outputId": "a8d8c5c8-5ee8-4525-949e-ccfb736d4dd7",
        "colab": {
          "base_uri": "https://localhost:8080/",
          "height": 238
        }
      },
      "source": [
        "!pip install pyspark"
      ],
      "execution_count": 0,
      "outputs": [
        {
          "output_type": "stream",
          "text": [
            "Collecting pyspark\n",
            "\u001b[?25l  Downloading https://files.pythonhosted.org/packages/87/21/f05c186f4ddb01d15d0ddc36ef4b7e3cedbeb6412274a41f26b55a650ee5/pyspark-2.4.4.tar.gz (215.7MB)\n",
            "\u001b[K     |████████████████████████████████| 215.7MB 52kB/s \n",
            "\u001b[?25hCollecting py4j==0.10.7\n",
            "\u001b[?25l  Downloading https://files.pythonhosted.org/packages/e3/53/c737818eb9a7dc32a7cd4f1396e787bd94200c3997c72c1dbe028587bd76/py4j-0.10.7-py2.py3-none-any.whl (197kB)\n",
            "\u001b[K     |████████████████████████████████| 204kB 43.7MB/s \n",
            "\u001b[?25hBuilding wheels for collected packages: pyspark\n",
            "  Building wheel for pyspark (setup.py) ... \u001b[?25l\u001b[?25hdone\n",
            "  Created wheel for pyspark: filename=pyspark-2.4.4-py2.py3-none-any.whl size=216130387 sha256=01f00d3a934dcd429328091f158944bcdcd555abc70c46b845459f84b4234783\n",
            "  Stored in directory: /root/.cache/pip/wheels/ab/09/4d/0d184230058e654eb1b04467dbc1292f00eaa186544604b471\n",
            "Successfully built pyspark\n",
            "Installing collected packages: py4j, pyspark\n",
            "Successfully installed py4j-0.10.7 pyspark-2.4.4\n"
          ],
          "name": "stdout"
        }
      ]
    },
    {
      "cell_type": "code",
      "metadata": {
        "id": "E7vTA6mtMOuV",
        "colab_type": "code",
        "colab": {}
      },
      "source": [
        "from pyspark.mllib.tree import RandomForest, RandomForestModel\n",
        "from pyspark.mllib.util import MLUtils"
      ],
      "execution_count": 0,
      "outputs": []
    },
    {
      "cell_type": "code",
      "metadata": {
        "id": "byZswhXqMOt3",
        "colab_type": "code",
        "colab": {}
      },
      "source": [
        ""
      ],
      "execution_count": 0,
      "outputs": []
    },
    {
      "cell_type": "markdown",
      "metadata": {
        "id": "61DY0nW70ZLc",
        "colab_type": "text"
      },
      "source": [
        "## Cross-validation and downsampling"
      ]
    },
    {
      "cell_type": "code",
      "metadata": {
        "id": "Amd6HZBpMOth",
        "colab_type": "code",
        "colab": {}
      },
      "source": [
        ""
      ],
      "execution_count": 0,
      "outputs": []
    },
    {
      "cell_type": "code",
      "metadata": {
        "id": "TmwzbQdXMOsQ",
        "colab_type": "code",
        "colab": {}
      },
      "source": [
        ""
      ],
      "execution_count": 0,
      "outputs": []
    },
    {
      "cell_type": "code",
      "metadata": {
        "id": "DrXygS5EMOrv",
        "colab_type": "code",
        "colab": {}
      },
      "source": [
        ""
      ],
      "execution_count": 0,
      "outputs": []
    },
    {
      "cell_type": "code",
      "metadata": {
        "id": "_RKrVv3lMOrX",
        "colab_type": "code",
        "colab": {}
      },
      "source": [
        ""
      ],
      "execution_count": 0,
      "outputs": []
    },
    {
      "cell_type": "code",
      "metadata": {
        "id": "83_h1qIBMOq9",
        "colab_type": "code",
        "colab": {}
      },
      "source": [
        ""
      ],
      "execution_count": 0,
      "outputs": []
    },
    {
      "cell_type": "code",
      "metadata": {
        "id": "r4Hsm1lbMOpo",
        "colab_type": "code",
        "colab": {}
      },
      "source": [
        ""
      ],
      "execution_count": 0,
      "outputs": []
    },
    {
      "cell_type": "code",
      "metadata": {
        "id": "XIkRt3jiuBQw",
        "colab_type": "code",
        "colab": {}
      },
      "source": [
        ""
      ],
      "execution_count": 0,
      "outputs": []
    }
  ]
}